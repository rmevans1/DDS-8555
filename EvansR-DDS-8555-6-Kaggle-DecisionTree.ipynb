{
 "cells": [
  {
   "cell_type": "markdown",
   "id": "b1de6d30-3b38-43fc-a97b-7c861379cfbc",
   "metadata": {},
   "source": [
    "<h1 style=\"text-align:center\">Build and Evaluate Classification Models</h1>\n",
    "<h2 style=\"text-align:center\">Kaggle Submission- Support Vector Machines</h2>\n",
    "<p style=\"text-align:center\">Robert Evans</p>\n",
    "<p style=\"text-align:center\">School of Technology & Engineering, National University</p>\n",
    "<p style=\"text-align:center\">DDS-8555: Predictive Analysis</p>\n",
    "<p style=\"text-align:center\">Dr. Mohammad Yavarimanesh</p>\n",
    "<p style=\"text-align:center\">February 16, 2025</p>"
   ]
  },
  {
   "cell_type": "markdown",
   "id": "20b5eda9",
   "metadata": {
    "_cell_guid": "b1076dfc-b9ad-4769-8c92-a6c4dae69d19",
    "_uuid": "8f2839f25d086af736a60e9eeb907d3b93b6e0e5",
    "papermill": {
     "duration": 0.004889,
     "end_time": "2025-02-17T00:26:54.736075",
     "exception": false,
     "start_time": "2025-02-17T00:26:54.731186",
     "status": "completed"
    },
    "tags": []
   },
   "source": [
    "## Import Libraries"
   ]
  },
  {
   "cell_type": "code",
   "execution_count": 1,
   "id": "f66980d9",
   "metadata": {
    "execution": {
     "iopub.execute_input": "2025-02-17T00:26:54.746039Z",
     "iopub.status.busy": "2025-02-17T00:26:54.745596Z",
     "iopub.status.idle": "2025-02-17T00:26:57.391392Z",
     "shell.execute_reply": "2025-02-17T00:26:57.390274Z"
    },
    "papermill": {
     "duration": 2.652947,
     "end_time": "2025-02-17T00:26:57.393378",
     "exception": false,
     "start_time": "2025-02-17T00:26:54.740431",
     "status": "completed"
    },
    "tags": []
   },
   "outputs": [],
   "source": [
    "import pandas as pd\n",
    "from sklearn.model_selection import train_test_split\n",
    "from sklearn.preprocessing import OneHotEncoder, StandardScaler\n",
    "from sklearn.compose import ColumnTransformer\n",
    "from sklearn.pipeline import Pipeline\n",
    "from sklearn.tree import DecisionTreeClassifier\n",
    "from sklearn.metrics import accuracy_score, classification_report"
   ]
  },
  {
   "cell_type": "markdown",
   "id": "f337c4e4",
   "metadata": {
    "papermill": {
     "duration": 0.004073,
     "end_time": "2025-02-17T00:26:57.401860",
     "exception": false,
     "start_time": "2025-02-17T00:26:57.397787",
     "status": "completed"
    },
    "tags": []
   },
   "source": [
    "## Load Data"
   ]
  },
  {
   "cell_type": "code",
   "execution_count": 2,
   "id": "4220c193",
   "metadata": {
    "execution": {
     "iopub.execute_input": "2025-02-17T00:26:57.411531Z",
     "iopub.status.busy": "2025-02-17T00:26:57.411015Z",
     "iopub.status.idle": "2025-02-17T00:26:57.570643Z",
     "shell.execute_reply": "2025-02-17T00:26:57.569455Z"
    },
    "papermill": {
     "duration": 0.166899,
     "end_time": "2025-02-17T00:26:57.572857",
     "exception": false,
     "start_time": "2025-02-17T00:26:57.405958",
     "status": "completed"
    },
    "tags": []
   },
   "outputs": [],
   "source": [
    "train = pd.read_csv('/kaggle/input/playground-series-s4e2/train.csv')\n",
    "test = pd.read_csv('/kaggle/input/playground-series-s4e2/test.csv')"
   ]
  },
  {
   "cell_type": "markdown",
   "id": "c1d1c85a",
   "metadata": {
    "papermill": {
     "duration": 0.003819,
     "end_time": "2025-02-17T00:26:57.581106",
     "exception": false,
     "start_time": "2025-02-17T00:26:57.577287",
     "status": "completed"
    },
    "tags": []
   },
   "source": [
    "## Data Preparation"
   ]
  },
  {
   "cell_type": "code",
   "execution_count": 3,
   "id": "fed13558",
   "metadata": {
    "execution": {
     "iopub.execute_input": "2025-02-17T00:26:57.590196Z",
     "iopub.status.busy": "2025-02-17T00:26:57.589837Z",
     "iopub.status.idle": "2025-02-17T00:26:57.606486Z",
     "shell.execute_reply": "2025-02-17T00:26:57.605361Z"
    },
    "papermill": {
     "duration": 0.023666,
     "end_time": "2025-02-17T00:26:57.608727",
     "exception": false,
     "start_time": "2025-02-17T00:26:57.585061",
     "status": "completed"
    },
    "tags": []
   },
   "outputs": [],
   "source": [
    "# Define features and target variable\n",
    "X = train.drop(columns=['id', 'NObeyesdad'])  # Exclude target column\n",
    "y = train['NObeyesdad']  # Target column"
   ]
  },
  {
   "cell_type": "code",
   "execution_count": 4,
   "id": "d89db4a5",
   "metadata": {
    "execution": {
     "iopub.execute_input": "2025-02-17T00:26:57.621671Z",
     "iopub.status.busy": "2025-02-17T00:26:57.621287Z",
     "iopub.status.idle": "2025-02-17T00:26:57.629468Z",
     "shell.execute_reply": "2025-02-17T00:26:57.628290Z"
    },
    "papermill": {
     "duration": 0.015892,
     "end_time": "2025-02-17T00:26:57.631528",
     "exception": false,
     "start_time": "2025-02-17T00:26:57.615636",
     "status": "completed"
    },
    "tags": []
   },
   "outputs": [],
   "source": [
    "# Identify categorical and numerical features\n",
    "categorical_features = X.select_dtypes(include=['object', 'category']).columns\n",
    "# Create a column transformer for one-hot encoding and scaling\n",
    "preprocessor = ColumnTransformer(transformers=[\n",
    "    ('cat', OneHotEncoder(drop='first', handle_unknown='ignore'), categorical_features),\n",
    "])\n",
    "\n",
    "# Create a pipeline with preprocessing and Support Vector Machine classifier\n",
    "pipeline = Pipeline(steps=[\n",
    "    ('preprocessor', preprocessor),\n",
    "    ('classifier', DecisionTreeClassifier(random_state=42))\n",
    "])"
   ]
  },
  {
   "cell_type": "markdown",
   "id": "b547e6f3",
   "metadata": {
    "papermill": {
     "duration": 0.00473,
     "end_time": "2025-02-17T00:26:57.641436",
     "exception": false,
     "start_time": "2025-02-17T00:26:57.636706",
     "status": "completed"
    },
    "tags": []
   },
   "source": [
    "## Build The Model"
   ]
  },
  {
   "cell_type": "code",
   "execution_count": 5,
   "id": "4758c925",
   "metadata": {
    "execution": {
     "iopub.execute_input": "2025-02-17T00:26:57.654425Z",
     "iopub.status.busy": "2025-02-17T00:26:57.653950Z",
     "iopub.status.idle": "2025-02-17T00:26:57.668678Z",
     "shell.execute_reply": "2025-02-17T00:26:57.667048Z"
    },
    "papermill": {
     "duration": 0.023146,
     "end_time": "2025-02-17T00:26:57.670820",
     "exception": false,
     "start_time": "2025-02-17T00:26:57.647674",
     "status": "completed"
    },
    "tags": []
   },
   "outputs": [],
   "source": [
    "# Perform 80/20 train/test split\n",
    "X_train, X_test, y_train, y_test = train_test_split(X, y, test_size=0.2, random_state=42)"
   ]
  },
  {
   "cell_type": "code",
   "execution_count": 6,
   "id": "0cc5d489",
   "metadata": {
    "execution": {
     "iopub.execute_input": "2025-02-17T00:26:57.681447Z",
     "iopub.status.busy": "2025-02-17T00:26:57.681096Z",
     "iopub.status.idle": "2025-02-17T00:26:57.808787Z",
     "shell.execute_reply": "2025-02-17T00:26:57.806723Z"
    },
    "papermill": {
     "duration": 0.136207,
     "end_time": "2025-02-17T00:26:57.811989",
     "exception": false,
     "start_time": "2025-02-17T00:26:57.675782",
     "status": "completed"
    },
    "tags": []
   },
   "outputs": [
    {
     "data": {
      "text/html": [
       "<style>#sk-container-id-1 {color: black;background-color: white;}#sk-container-id-1 pre{padding: 0;}#sk-container-id-1 div.sk-toggleable {background-color: white;}#sk-container-id-1 label.sk-toggleable__label {cursor: pointer;display: block;width: 100%;margin-bottom: 0;padding: 0.3em;box-sizing: border-box;text-align: center;}#sk-container-id-1 label.sk-toggleable__label-arrow:before {content: \"▸\";float: left;margin-right: 0.25em;color: #696969;}#sk-container-id-1 label.sk-toggleable__label-arrow:hover:before {color: black;}#sk-container-id-1 div.sk-estimator:hover label.sk-toggleable__label-arrow:before {color: black;}#sk-container-id-1 div.sk-toggleable__content {max-height: 0;max-width: 0;overflow: hidden;text-align: left;background-color: #f0f8ff;}#sk-container-id-1 div.sk-toggleable__content pre {margin: 0.2em;color: black;border-radius: 0.25em;background-color: #f0f8ff;}#sk-container-id-1 input.sk-toggleable__control:checked~div.sk-toggleable__content {max-height: 200px;max-width: 100%;overflow: auto;}#sk-container-id-1 input.sk-toggleable__control:checked~label.sk-toggleable__label-arrow:before {content: \"▾\";}#sk-container-id-1 div.sk-estimator input.sk-toggleable__control:checked~label.sk-toggleable__label {background-color: #d4ebff;}#sk-container-id-1 div.sk-label input.sk-toggleable__control:checked~label.sk-toggleable__label {background-color: #d4ebff;}#sk-container-id-1 input.sk-hidden--visually {border: 0;clip: rect(1px 1px 1px 1px);clip: rect(1px, 1px, 1px, 1px);height: 1px;margin: -1px;overflow: hidden;padding: 0;position: absolute;width: 1px;}#sk-container-id-1 div.sk-estimator {font-family: monospace;background-color: #f0f8ff;border: 1px dotted black;border-radius: 0.25em;box-sizing: border-box;margin-bottom: 0.5em;}#sk-container-id-1 div.sk-estimator:hover {background-color: #d4ebff;}#sk-container-id-1 div.sk-parallel-item::after {content: \"\";width: 100%;border-bottom: 1px solid gray;flex-grow: 1;}#sk-container-id-1 div.sk-label:hover label.sk-toggleable__label {background-color: #d4ebff;}#sk-container-id-1 div.sk-serial::before {content: \"\";position: absolute;border-left: 1px solid gray;box-sizing: border-box;top: 0;bottom: 0;left: 50%;z-index: 0;}#sk-container-id-1 div.sk-serial {display: flex;flex-direction: column;align-items: center;background-color: white;padding-right: 0.2em;padding-left: 0.2em;position: relative;}#sk-container-id-1 div.sk-item {position: relative;z-index: 1;}#sk-container-id-1 div.sk-parallel {display: flex;align-items: stretch;justify-content: center;background-color: white;position: relative;}#sk-container-id-1 div.sk-item::before, #sk-container-id-1 div.sk-parallel-item::before {content: \"\";position: absolute;border-left: 1px solid gray;box-sizing: border-box;top: 0;bottom: 0;left: 50%;z-index: -1;}#sk-container-id-1 div.sk-parallel-item {display: flex;flex-direction: column;z-index: 1;position: relative;background-color: white;}#sk-container-id-1 div.sk-parallel-item:first-child::after {align-self: flex-end;width: 50%;}#sk-container-id-1 div.sk-parallel-item:last-child::after {align-self: flex-start;width: 50%;}#sk-container-id-1 div.sk-parallel-item:only-child::after {width: 0;}#sk-container-id-1 div.sk-dashed-wrapped {border: 1px dashed gray;margin: 0 0.4em 0.5em 0.4em;box-sizing: border-box;padding-bottom: 0.4em;background-color: white;}#sk-container-id-1 div.sk-label label {font-family: monospace;font-weight: bold;display: inline-block;line-height: 1.2em;}#sk-container-id-1 div.sk-label-container {text-align: center;}#sk-container-id-1 div.sk-container {/* jupyter's `normalize.less` sets `[hidden] { display: none; }` but bootstrap.min.css set `[hidden] { display: none !important; }` so we also need the `!important` here to be able to override the default hidden behavior on the sphinx rendered scikit-learn.org. See: https://github.com/scikit-learn/scikit-learn/issues/21755 */display: inline-block !important;position: relative;}#sk-container-id-1 div.sk-text-repr-fallback {display: none;}</style><div id=\"sk-container-id-1\" class=\"sk-top-container\"><div class=\"sk-text-repr-fallback\"><pre>Pipeline(steps=[(&#x27;preprocessor&#x27;,\n",
       "                 ColumnTransformer(transformers=[(&#x27;cat&#x27;,\n",
       "                                                  OneHotEncoder(drop=&#x27;first&#x27;,\n",
       "                                                                handle_unknown=&#x27;ignore&#x27;),\n",
       "                                                  Index([&#x27;Gender&#x27;, &#x27;family_history_with_overweight&#x27;, &#x27;FAVC&#x27;, &#x27;CAEC&#x27;, &#x27;SMOKE&#x27;,\n",
       "       &#x27;SCC&#x27;, &#x27;CALC&#x27;, &#x27;MTRANS&#x27;],\n",
       "      dtype=&#x27;object&#x27;))])),\n",
       "                (&#x27;classifier&#x27;, DecisionTreeClassifier(random_state=42))])</pre><b>In a Jupyter environment, please rerun this cell to show the HTML representation or trust the notebook. <br />On GitHub, the HTML representation is unable to render, please try loading this page with nbviewer.org.</b></div><div class=\"sk-container\" hidden><div class=\"sk-item sk-dashed-wrapped\"><div class=\"sk-label-container\"><div class=\"sk-label sk-toggleable\"><input class=\"sk-toggleable__control sk-hidden--visually\" id=\"sk-estimator-id-1\" type=\"checkbox\" ><label for=\"sk-estimator-id-1\" class=\"sk-toggleable__label sk-toggleable__label-arrow\">Pipeline</label><div class=\"sk-toggleable__content\"><pre>Pipeline(steps=[(&#x27;preprocessor&#x27;,\n",
       "                 ColumnTransformer(transformers=[(&#x27;cat&#x27;,\n",
       "                                                  OneHotEncoder(drop=&#x27;first&#x27;,\n",
       "                                                                handle_unknown=&#x27;ignore&#x27;),\n",
       "                                                  Index([&#x27;Gender&#x27;, &#x27;family_history_with_overweight&#x27;, &#x27;FAVC&#x27;, &#x27;CAEC&#x27;, &#x27;SMOKE&#x27;,\n",
       "       &#x27;SCC&#x27;, &#x27;CALC&#x27;, &#x27;MTRANS&#x27;],\n",
       "      dtype=&#x27;object&#x27;))])),\n",
       "                (&#x27;classifier&#x27;, DecisionTreeClassifier(random_state=42))])</pre></div></div></div><div class=\"sk-serial\"><div class=\"sk-item sk-dashed-wrapped\"><div class=\"sk-label-container\"><div class=\"sk-label sk-toggleable\"><input class=\"sk-toggleable__control sk-hidden--visually\" id=\"sk-estimator-id-2\" type=\"checkbox\" ><label for=\"sk-estimator-id-2\" class=\"sk-toggleable__label sk-toggleable__label-arrow\">preprocessor: ColumnTransformer</label><div class=\"sk-toggleable__content\"><pre>ColumnTransformer(transformers=[(&#x27;cat&#x27;,\n",
       "                                 OneHotEncoder(drop=&#x27;first&#x27;,\n",
       "                                               handle_unknown=&#x27;ignore&#x27;),\n",
       "                                 Index([&#x27;Gender&#x27;, &#x27;family_history_with_overweight&#x27;, &#x27;FAVC&#x27;, &#x27;CAEC&#x27;, &#x27;SMOKE&#x27;,\n",
       "       &#x27;SCC&#x27;, &#x27;CALC&#x27;, &#x27;MTRANS&#x27;],\n",
       "      dtype=&#x27;object&#x27;))])</pre></div></div></div><div class=\"sk-parallel\"><div class=\"sk-parallel-item\"><div class=\"sk-item\"><div class=\"sk-label-container\"><div class=\"sk-label sk-toggleable\"><input class=\"sk-toggleable__control sk-hidden--visually\" id=\"sk-estimator-id-3\" type=\"checkbox\" ><label for=\"sk-estimator-id-3\" class=\"sk-toggleable__label sk-toggleable__label-arrow\">cat</label><div class=\"sk-toggleable__content\"><pre>Index([&#x27;Gender&#x27;, &#x27;family_history_with_overweight&#x27;, &#x27;FAVC&#x27;, &#x27;CAEC&#x27;, &#x27;SMOKE&#x27;,\n",
       "       &#x27;SCC&#x27;, &#x27;CALC&#x27;, &#x27;MTRANS&#x27;],\n",
       "      dtype=&#x27;object&#x27;)</pre></div></div></div><div class=\"sk-serial\"><div class=\"sk-item\"><div class=\"sk-estimator sk-toggleable\"><input class=\"sk-toggleable__control sk-hidden--visually\" id=\"sk-estimator-id-4\" type=\"checkbox\" ><label for=\"sk-estimator-id-4\" class=\"sk-toggleable__label sk-toggleable__label-arrow\">OneHotEncoder</label><div class=\"sk-toggleable__content\"><pre>OneHotEncoder(drop=&#x27;first&#x27;, handle_unknown=&#x27;ignore&#x27;)</pre></div></div></div></div></div></div></div></div><div class=\"sk-item\"><div class=\"sk-estimator sk-toggleable\"><input class=\"sk-toggleable__control sk-hidden--visually\" id=\"sk-estimator-id-5\" type=\"checkbox\" ><label for=\"sk-estimator-id-5\" class=\"sk-toggleable__label sk-toggleable__label-arrow\">DecisionTreeClassifier</label><div class=\"sk-toggleable__content\"><pre>DecisionTreeClassifier(random_state=42)</pre></div></div></div></div></div></div></div>"
      ],
      "text/plain": [
       "Pipeline(steps=[('preprocessor',\n",
       "                 ColumnTransformer(transformers=[('cat',\n",
       "                                                  OneHotEncoder(drop='first',\n",
       "                                                                handle_unknown='ignore'),\n",
       "                                                  Index(['Gender', 'family_history_with_overweight', 'FAVC', 'CAEC', 'SMOKE',\n",
       "       'SCC', 'CALC', 'MTRANS'],\n",
       "      dtype='object'))])),\n",
       "                ('classifier', DecisionTreeClassifier(random_state=42))])"
      ]
     },
     "execution_count": 6,
     "metadata": {},
     "output_type": "execute_result"
    }
   ],
   "source": [
    "# Train the model\n",
    "pipeline.fit(X_train, y_train)"
   ]
  },
  {
   "cell_type": "markdown",
   "id": "a8d36602",
   "metadata": {
    "papermill": {
     "duration": 0.006438,
     "end_time": "2025-02-17T00:26:57.826326",
     "exception": false,
     "start_time": "2025-02-17T00:26:57.819888",
     "status": "completed"
    },
    "tags": []
   },
   "source": [
    "## Evaluate The Model"
   ]
  },
  {
   "cell_type": "code",
   "execution_count": 7,
   "id": "537e3fdd",
   "metadata": {
    "execution": {
     "iopub.execute_input": "2025-02-17T00:26:57.837641Z",
     "iopub.status.busy": "2025-02-17T00:26:57.837288Z",
     "iopub.status.idle": "2025-02-17T00:26:57.862695Z",
     "shell.execute_reply": "2025-02-17T00:26:57.861385Z"
    },
    "papermill": {
     "duration": 0.033549,
     "end_time": "2025-02-17T00:26:57.864781",
     "exception": false,
     "start_time": "2025-02-17T00:26:57.831232",
     "status": "completed"
    },
    "tags": []
   },
   "outputs": [],
   "source": [
    "# Predict the testing dataset\n",
    "y_pred = pipeline.predict(X_test)"
   ]
  },
  {
   "cell_type": "code",
   "execution_count": 8,
   "id": "0860034b",
   "metadata": {
    "execution": {
     "iopub.execute_input": "2025-02-17T00:26:57.875834Z",
     "iopub.status.busy": "2025-02-17T00:26:57.875393Z",
     "iopub.status.idle": "2025-02-17T00:26:57.889901Z",
     "shell.execute_reply": "2025-02-17T00:26:57.888743Z"
    },
    "papermill": {
     "duration": 0.021874,
     "end_time": "2025-02-17T00:26:57.891938",
     "exception": false,
     "start_time": "2025-02-17T00:26:57.870064",
     "status": "completed"
    },
    "tags": []
   },
   "outputs": [
    {
     "name": "stdout",
     "output_type": "stream",
     "text": [
      "Accuracy: 0.5754\n"
     ]
    }
   ],
   "source": [
    "# Evaluate the model\n",
    "accuracy = accuracy_score(y_test, y_pred)\n",
    "print(f\"Accuracy: {accuracy:.4f}\")"
   ]
  },
  {
   "cell_type": "code",
   "execution_count": 9,
   "id": "6fc2e20c",
   "metadata": {
    "execution": {
     "iopub.execute_input": "2025-02-17T00:26:57.904330Z",
     "iopub.status.busy": "2025-02-17T00:26:57.903852Z",
     "iopub.status.idle": "2025-02-17T00:26:58.034478Z",
     "shell.execute_reply": "2025-02-17T00:26:58.033164Z"
    },
    "papermill": {
     "duration": 0.139538,
     "end_time": "2025-02-17T00:26:58.036314",
     "exception": false,
     "start_time": "2025-02-17T00:26:57.896776",
     "status": "completed"
    },
    "tags": []
   },
   "outputs": [
    {
     "name": "stdout",
     "output_type": "stream",
     "text": [
      "                     precision    recall  f1-score   support\n",
      "\n",
      "Insufficient_Weight       0.62      0.52      0.57       524\n",
      "      Normal_Weight       0.45      0.39      0.41       626\n",
      "     Obesity_Type_I       0.45      0.52      0.48       543\n",
      "    Obesity_Type_II       0.52      0.84      0.64       657\n",
      "   Obesity_Type_III       0.81      1.00      0.89       804\n",
      " Overweight_Level_I       0.56      0.18      0.27       484\n",
      "Overweight_Level_II       0.45      0.30      0.36       514\n",
      "\n",
      "           accuracy                           0.58      4152\n",
      "          macro avg       0.55      0.53      0.52      4152\n",
      "       weighted avg       0.56      0.58      0.55      4152\n",
      "\n"
     ]
    }
   ],
   "source": [
    "print(classification_report(y_test, y_pred))"
   ]
  },
  {
   "cell_type": "markdown",
   "id": "aeda59b9",
   "metadata": {
    "papermill": {
     "duration": 0.004242,
     "end_time": "2025-02-17T00:26:58.045258",
     "exception": false,
     "start_time": "2025-02-17T00:26:58.041016",
     "status": "completed"
    },
    "tags": []
   },
   "source": [
    "## Competition Submission"
   ]
  },
  {
   "cell_type": "code",
   "execution_count": 10,
   "id": "4dec432d",
   "metadata": {
    "execution": {
     "iopub.execute_input": "2025-02-17T00:26:58.056104Z",
     "iopub.status.busy": "2025-02-17T00:26:58.055661Z",
     "iopub.status.idle": "2025-02-17T00:26:58.062176Z",
     "shell.execute_reply": "2025-02-17T00:26:58.061166Z"
    },
    "papermill": {
     "duration": 0.01376,
     "end_time": "2025-02-17T00:26:58.063954",
     "exception": false,
     "start_time": "2025-02-17T00:26:58.050194",
     "status": "completed"
    },
    "tags": []
   },
   "outputs": [],
   "source": [
    "test_X = test.drop(columns=['id'])"
   ]
  },
  {
   "cell_type": "code",
   "execution_count": 11,
   "id": "7c446e7f",
   "metadata": {
    "execution": {
     "iopub.execute_input": "2025-02-17T00:26:58.074586Z",
     "iopub.status.busy": "2025-02-17T00:26:58.074235Z",
     "iopub.status.idle": "2025-02-17T00:26:58.125579Z",
     "shell.execute_reply": "2025-02-17T00:26:58.124523Z"
    },
    "papermill": {
     "duration": 0.058852,
     "end_time": "2025-02-17T00:26:58.127493",
     "exception": false,
     "start_time": "2025-02-17T00:26:58.068641",
     "status": "completed"
    },
    "tags": []
   },
   "outputs": [
    {
     "name": "stderr",
     "output_type": "stream",
     "text": [
      "/usr/local/lib/python3.10/dist-packages/sklearn/preprocessing/_encoders.py:202: UserWarning: Found unknown categories in columns [6] during transform. These unknown categories will be encoded as all zeros\n",
      "  warnings.warn(\n"
     ]
    }
   ],
   "source": [
    "test_y = pipeline.predict(test_X)"
   ]
  },
  {
   "cell_type": "code",
   "execution_count": 12,
   "id": "f454781e",
   "metadata": {
    "execution": {
     "iopub.execute_input": "2025-02-17T00:26:58.138353Z",
     "iopub.status.busy": "2025-02-17T00:26:58.138014Z",
     "iopub.status.idle": "2025-02-17T00:26:58.143169Z",
     "shell.execute_reply": "2025-02-17T00:26:58.142155Z"
    },
    "papermill": {
     "duration": 0.012602,
     "end_time": "2025-02-17T00:26:58.144785",
     "exception": false,
     "start_time": "2025-02-17T00:26:58.132183",
     "status": "completed"
    },
    "tags": []
   },
   "outputs": [],
   "source": [
    "submission = pd.DataFrame({'id':test['id'], 'NObeyesdad':test_y})"
   ]
  },
  {
   "cell_type": "code",
   "execution_count": 13,
   "id": "ab4a722b",
   "metadata": {
    "execution": {
     "iopub.execute_input": "2025-02-17T00:26:58.156280Z",
     "iopub.status.busy": "2025-02-17T00:26:58.155819Z",
     "iopub.status.idle": "2025-02-17T00:26:58.180394Z",
     "shell.execute_reply": "2025-02-17T00:26:58.179380Z"
    },
    "papermill": {
     "duration": 0.032576,
     "end_time": "2025-02-17T00:26:58.182381",
     "exception": false,
     "start_time": "2025-02-17T00:26:58.149805",
     "status": "completed"
    },
    "tags": []
   },
   "outputs": [],
   "source": [
    "submission.to_csv('submission.csv', index=False)"
   ]
  },
  {
   "cell_type": "code",
   "execution_count": null,
   "id": "b316b813",
   "metadata": {
    "papermill": {
     "duration": 0.004266,
     "end_time": "2025-02-17T00:26:58.191393",
     "exception": false,
     "start_time": "2025-02-17T00:26:58.187127",
     "status": "completed"
    },
    "tags": []
   },
   "outputs": [],
   "source": []
  }
 ],
 "metadata": {
  "kaggle": {
   "accelerator": "none",
   "dataSources": [
    {
     "databundleVersionId": 10950255,
     "sourceId": 68479,
     "sourceType": "competition"
    }
   ],
   "dockerImageVersionId": 30886,
   "isGpuEnabled": false,
   "isInternetEnabled": true,
   "language": "python",
   "sourceType": "notebook"
  },
  "kernelspec": {
   "display_name": "Python 3 (ipykernel)",
   "language": "python",
   "name": "python3"
  },
  "language_info": {
   "codemirror_mode": {
    "name": "ipython",
    "version": 3
   },
   "file_extension": ".py",
   "mimetype": "text/x-python",
   "name": "python",
   "nbconvert_exporter": "python",
   "pygments_lexer": "ipython3",
   "version": "3.12.9"
  },
  "papermill": {
   "default_parameters": {},
   "duration": 7.454738,
   "end_time": "2025-02-17T00:26:58.916415",
   "environment_variables": {},
   "exception": null,
   "input_path": "__notebook__.ipynb",
   "output_path": "__notebook__.ipynb",
   "parameters": {},
   "start_time": "2025-02-17T00:26:51.461677",
   "version": "2.6.0"
  }
 },
 "nbformat": 4,
 "nbformat_minor": 5
}
