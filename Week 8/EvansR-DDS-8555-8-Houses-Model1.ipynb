{
 "cells": [
  {
   "cell_type": "markdown",
   "id": "403985c5-9fa5-4369-900f-a853c017a320",
   "metadata": {},
   "source": [
    "<h1 style=\"text-align:center\">Build and Evaluate Time Series Models</h1>\n",
    "<h2 style=\"text-align:center\">House Pricing- House and Lot Size</h2>\n",
    "<p style=\"text-align:center\">Robert Evans</p>\n",
    "<p style=\"text-align:center\">School of Technology & Engineering, National University</p>\n",
    "<p style=\"text-align:center\">DDS-8555: Predictive Analysis</p>\n",
    "<p style=\"text-align:center\">Dr. Mohammad Yavarimanesh</p>\n",
    "<p style=\"text-align:center\">March 2, 2025</p>"
   ]
  },
  {
   "cell_type": "markdown",
   "id": "0a77e214-4912-48a6-8d32-93ee9bbce802",
   "metadata": {},
   "source": [
    "## Import Libraries"
   ]
  },
  {
   "cell_type": "code",
   "execution_count": 1,
   "id": "d44c8f12-9815-46c5-8110-2b2d2ab5ff04",
   "metadata": {},
   "outputs": [],
   "source": [
    "import pandas as pd\n",
    "import numpy as np\n",
    "import statsmodels.api as sm\n",
    "from sklearn.model_selection import train_test_split\n",
    "from sklearn.metrics import mean_squared_error, r2_score"
   ]
  },
  {
   "cell_type": "markdown",
   "id": "84e1cdfb-552b-4a2b-97e9-9c9b06dade34",
   "metadata": {},
   "source": [
    "## Load Data"
   ]
  },
  {
   "cell_type": "code",
   "execution_count": 2,
   "id": "689d3d01-2477-438f-bcd4-684c852d57d2",
   "metadata": {},
   "outputs": [],
   "source": [
    "kaggle = False\n",
    "\n",
    "if kaggle:\n",
    "    path = \"\"\n",
    "else:\n",
    "    path = \"Week8_Data_Houses\"\n",
    "\n",
    "train = pd.read_csv(f\"{path}/train.csv\")\n",
    "test = pd.read_csv(f\"{path}/test.csv\")"
   ]
  },
  {
   "cell_type": "markdown",
   "id": "38576c46-9a25-42f4-a186-c6b5051b08a4",
   "metadata": {},
   "source": [
    "## Build Model"
   ]
  },
  {
   "cell_type": "code",
   "execution_count": 13,
   "id": "c3dfef2b-f214-4414-b250-0faddf77853d",
   "metadata": {},
   "outputs": [],
   "source": [
    "# Define features and target variable\n",
    "features = ['LotFrontage', 'LotArea', 'TotalBsmtSF', 'GarageArea', 'GrLivArea']\n",
    "target = 'SalePrice'"
   ]
  },
  {
   "cell_type": "code",
   "execution_count": 14,
   "id": "50233c74-058e-4034-bc45-756018918e25",
   "metadata": {},
   "outputs": [],
   "source": [
    "# Extract features and target from the training data\n",
    "X = train[features]\n",
    "y = train[target]\n",
    "\n",
    "# Fill missing values in the numeric features with their respective medians from training\n",
    "X = X.fillna(X.median())"
   ]
  },
  {
   "cell_type": "code",
   "execution_count": 7,
   "id": "d1fe77db-0578-426b-807f-f08485029efa",
   "metadata": {},
   "outputs": [],
   "source": [
    "# Split the data (80% train, 20% test)\n",
    "X_train, X_test, y_train, y_test = train_test_split(X, y, test_size=0.2, random_state=42)\n",
    "\n",
    "# Add a constant to the training and testing sets to account for the intercept.\n",
    "X_train_const = sm.add_constant(X_train, has_constant='add')\n",
    "X_test_const = sm.add_constant(X_test, has_constant='add')"
   ]
  },
  {
   "cell_type": "code",
   "execution_count": 8,
   "id": "334bd722-9921-48a2-a412-192a6d95e7b4",
   "metadata": {},
   "outputs": [],
   "source": [
    "# Fit the OLS model on the training data.\n",
    "model = sm.OLS(y_train, X_train_const).fit()"
   ]
  },
  {
   "cell_type": "code",
   "execution_count": 9,
   "id": "7b5c49f0-b06f-4aa6-b94a-a92f5f2d4735",
   "metadata": {},
   "outputs": [],
   "source": [
    "\n",
    "# Predict on the test set.\n",
    "y_pred = model.predict(X_test_const)"
   ]
  },
  {
   "cell_type": "code",
   "execution_count": 10,
   "id": "933fc486-8795-43f6-984b-0efff75c3566",
   "metadata": {},
   "outputs": [
    {
     "name": "stdout",
     "output_type": "stream",
     "text": [
      "Test Set Performance:\n",
      "R²: 0.7206\n",
      "RMSE: 46295.22\n"
     ]
    }
   ],
   "source": [
    "# Evaluate model performance using R² and RMSE.\n",
    "r2 = r2_score(y_test, y_pred)\n",
    "rmse = np.sqrt(mean_squared_error(y_test, y_pred))\n",
    "print(\"Test Set Performance:\")\n",
    "print(f\"R²: {r2:.4f}\")\n",
    "print(f\"RMSE: {rmse:.2f}\")"
   ]
  },
  {
   "cell_type": "code",
   "execution_count": 11,
   "id": "46d65d67-5dd2-4b84-84b1-8f36604b38a7",
   "metadata": {},
   "outputs": [
    {
     "name": "stdout",
     "output_type": "stream",
     "text": [
      "\n",
      "OLS Regression Summary:\n",
      "                            OLS Regression Results                            \n",
      "==============================================================================\n",
      "Dep. Variable:              SalePrice   R-squared:                       0.643\n",
      "Model:                            OLS   Adj. R-squared:                  0.642\n",
      "Method:                 Least Squares   F-statistic:                     418.7\n",
      "Date:                Tue, 04 Mar 2025   Prob (F-statistic):          6.01e-257\n",
      "Time:                        11:46:19   Log-Likelihood:                -14201.\n",
      "No. Observations:                1168   AIC:                         2.841e+04\n",
      "Df Residuals:                    1162   BIC:                         2.844e+04\n",
      "Df Model:                           5                                         \n",
      "Covariance Type:            nonrobust                                         \n",
      "===============================================================================\n",
      "                  coef    std err          t      P>|t|      [0.025      0.975]\n",
      "-------------------------------------------------------------------------------\n",
      "const       -1.007e+04   5283.925     -1.905      0.057   -2.04e+04     300.988\n",
      "LotFrontage  -153.4222     68.123     -2.252      0.025    -287.081     -19.764\n",
      "LotArea         0.2924      0.135      2.167      0.030       0.028       0.557\n",
      "TotalBsmtSF    45.6787      3.777     12.095      0.000      38.269      53.089\n",
      "GarageArea    106.3219      7.839     13.563      0.000      90.941     121.703\n",
      "GrLivArea      65.4690      3.146     20.811      0.000      59.297      71.641\n",
      "==============================================================================\n",
      "Omnibus:                      612.713   Durbin-Watson:                   1.947\n",
      "Prob(Omnibus):                  0.000   Jarque-Bera (JB):            43331.604\n",
      "Skew:                          -1.570   Prob(JB):                         0.00\n",
      "Kurtosis:                      32.673   Cond. No.                     5.95e+04\n",
      "==============================================================================\n",
      "\n",
      "Notes:\n",
      "[1] Standard Errors assume that the covariance matrix of the errors is correctly specified.\n",
      "[2] The condition number is large, 5.95e+04. This might indicate that there are\n",
      "strong multicollinearity or other numerical problems.\n"
     ]
    }
   ],
   "source": [
    "# Print the detailed OLS regression summary (includes variable names, coefficients, and p-values).\n",
    "print(\"\\nOLS Regression Summary:\")\n",
    "print(model.summary())"
   ]
  },
  {
   "cell_type": "markdown",
   "id": "2de6ed2a-25d6-4e6b-9886-0ad20a8bc471",
   "metadata": {},
   "source": [
    "## Kaggle Submission"
   ]
  },
  {
   "cell_type": "code",
   "execution_count": 15,
   "id": "507e61a2-85cc-4a60-8345-42c7a429dead",
   "metadata": {},
   "outputs": [
    {
     "name": "stdout",
     "output_type": "stream",
     "text": [
      "Predicted SalePrice values for test.csv:\n"
     ]
    },
    {
     "data": {
      "text/plain": [
       "0       157622.023956\n",
       "1       162565.870770\n",
       "2       182910.325261\n",
       "3       178166.446942\n",
       "4       180868.110971\n",
       "            ...      \n",
       "1454     83710.841372\n",
       "1455    114106.626803\n",
       "1456    168520.193460\n",
       "1457     88638.402835\n",
       "1458    226938.704977\n",
       "Length: 1459, dtype: float64"
      ]
     },
     "execution_count": 15,
     "metadata": {},
     "output_type": "execute_result"
    }
   ],
   "source": [
    "# Extract features from test.csv\n",
    "X_new = test[features]\n",
    "\n",
    "# Fill missing values in the numeric features with their respective medians from training\n",
    "X_new = X_new.fillna(X_new.median())\n",
    "\n",
    "\n",
    "# Add a constant term for the intercept to match the model's design matrix.\n",
    "X_new = sm.add_constant(X_new, has_constant='add')\n",
    "\n",
    "# Predict SalePrice using the trained OLS model.\n",
    "predictions = model.predict(X_new)\n",
    "\n",
    "print(\"Predicted SalePrice values for test.csv:\")\n",
    "predictions"
   ]
  },
  {
   "cell_type": "code",
   "execution_count": 16,
   "id": "1ace8f25-a0d2-4bc6-8092-d8c72e1adaff",
   "metadata": {},
   "outputs": [
    {
     "name": "stdout",
     "output_type": "stream",
     "text": [
      "Submission file saved as house_prediction_2.csv\n"
     ]
    }
   ],
   "source": [
    "# Create a DataFrame with the Id and predicted SalePrice.\n",
    "submission_df = pd.DataFrame({\n",
    "    'id': test['Id'],\n",
    "    'SalePrice': predictions\n",
    "})\n",
    "\n",
    "# Save the submission DataFrame to a CSV file.\n",
    "submission_df.to_csv(\"house_prediction_2.csv\", index=False)\n",
    "print(\"Submission file saved as house_prediction_2.csv\")"
   ]
  },
  {
   "cell_type": "code",
   "execution_count": null,
   "id": "167695e2-a5a8-4d2c-848b-a7ca8d50b32b",
   "metadata": {},
   "outputs": [],
   "source": []
  }
 ],
 "metadata": {
  "kernelspec": {
   "display_name": "Python 3 (ipykernel)",
   "language": "python",
   "name": "python3"
  },
  "language_info": {
   "codemirror_mode": {
    "name": "ipython",
    "version": 3
   },
   "file_extension": ".py",
   "mimetype": "text/x-python",
   "name": "python",
   "nbconvert_exporter": "python",
   "pygments_lexer": "ipython3",
   "version": "3.12.9"
  }
 },
 "nbformat": 4,
 "nbformat_minor": 5
}
