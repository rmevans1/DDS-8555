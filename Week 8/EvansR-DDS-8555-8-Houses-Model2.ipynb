{
 "cells": [
  {
   "cell_type": "markdown",
   "id": "403985c5-9fa5-4369-900f-a853c017a320",
   "metadata": {},
   "source": [
    "<h1 style=\"text-align:center\">Build and Evaluate Time Series Models</h1>\n",
    "<h2 style=\"text-align:center\">House Pricing- House Quality</h2>\n",
    "<p style=\"text-align:center\">Robert Evans</p>\n",
    "<p style=\"text-align:center\">School of Technology & Engineering, National University</p>\n",
    "<p style=\"text-align:center\">DDS-8555: Predictive Analysis</p>\n",
    "<p style=\"text-align:center\">Dr. Mohammad Yavarimanesh</p>\n",
    "<p style=\"text-align:center\">March 2, 2025</p>"
   ]
  },
  {
   "cell_type": "markdown",
   "id": "0a77e214-4912-48a6-8d32-93ee9bbce802",
   "metadata": {},
   "source": [
    "## Import Libraries"
   ]
  },
  {
   "cell_type": "code",
   "execution_count": 48,
   "id": "d44c8f12-9815-46c5-8110-2b2d2ab5ff04",
   "metadata": {},
   "outputs": [],
   "source": [
    "import pandas as pd\n",
    "import numpy as np\n",
    "import statsmodels.api as sm\n",
    "from sklearn.preprocessing import OneHotEncoder\n",
    "from sklearn.model_selection import train_test_split\n",
    "from sklearn.metrics import mean_squared_error, r2_score"
   ]
  },
  {
   "cell_type": "markdown",
   "id": "84e1cdfb-552b-4a2b-97e9-9c9b06dade34",
   "metadata": {},
   "source": [
    "## Load Data"
   ]
  },
  {
   "cell_type": "code",
   "execution_count": 49,
   "id": "689d3d01-2477-438f-bcd4-684c852d57d2",
   "metadata": {},
   "outputs": [],
   "source": [
    "kaggle = False\n",
    "\n",
    "if kaggle:\n",
    "    path = \"\"\n",
    "else:\n",
    "    path = \"Week8_Data_Houses\"\n",
    "\n",
    "train = pd.read_csv(f\"{path}/train.csv\")\n",
    "test = pd.read_csv(f\"{path}/test.csv\")"
   ]
  },
  {
   "cell_type": "markdown",
   "id": "38576c46-9a25-42f4-a186-c6b5051b08a4",
   "metadata": {},
   "source": [
    "## Build Model"
   ]
  },
  {
   "cell_type": "code",
   "execution_count": 50,
   "id": "c3dfef2b-f214-4414-b250-0faddf77853d",
   "metadata": {},
   "outputs": [],
   "source": [
    "# Define features and target\n",
    "features = ['ExterQual', 'BsmtQual', 'KitchenQual', 'FireplaceQu', 'GarageQual', 'PoolQC', 'Fence']\n",
    "target = 'SalePrice'"
   ]
  },
  {
   "cell_type": "code",
   "execution_count": 51,
   "id": "50233c74-058e-4034-bc45-756018918e25",
   "metadata": {},
   "outputs": [],
   "source": [
    "# One-hot encode the categorical features using OneHotEncoder.\n",
    "# Using drop='first' to avoid multicollinearity.\n",
    "ohe = OneHotEncoder(drop='first', sparse_output=False, handle_unknown='ignore')\n",
    "X_encoded = ohe.fit_transform(X)\n",
    "\n",
    "# Retrieve the one-hot encoded feature names.\n",
    "feature_names = ohe.get_feature_names_out(features)\n",
    "\n",
    "# Create a DataFrame with the encoded features for easier handling.\n",
    "X_encoded_df = pd.DataFrame(X_encoded, columns=feature_names)"
   ]
  },
  {
   "cell_type": "code",
   "execution_count": 52,
   "id": "d1fe77db-0578-426b-807f-f08485029efa",
   "metadata": {},
   "outputs": [],
   "source": [
    "# Split the data (80% train, 20% test)\n",
    "X_train, X_test, y_train, y_test = train_test_split(X_encoded_df, y, test_size=0.2, random_state=42)\n",
    "\n",
    "# Reset indices to ensure proper alignment between features and target.\n",
    "X_train = X_train.reset_index(drop=True)\n",
    "X_test = X_test.reset_index(drop=True)\n",
    "y_train = y_train.reset_index(drop=True)\n",
    "y_test = y_test.reset_index(drop=True)\n",
    "\n",
    "# Add a constant to the training and testing sets to account for the intercept.\n",
    "X_train_const = sm.add_constant(X_train, has_constant='add')\n",
    "X_test_const = sm.add_constant(X_test, has_constant='add')"
   ]
  },
  {
   "cell_type": "code",
   "execution_count": 53,
   "id": "334bd722-9921-48a2-a412-192a6d95e7b4",
   "metadata": {},
   "outputs": [],
   "source": [
    "# Fit the OLS model on the training data.\n",
    "model = sm.OLS(y_train, X_train_const).fit()"
   ]
  },
  {
   "cell_type": "code",
   "execution_count": 54,
   "id": "7b5c49f0-b06f-4aa6-b94a-a92f5f2d4735",
   "metadata": {},
   "outputs": [],
   "source": [
    "\n",
    "# Predict on the test set.\n",
    "y_pred = model.predict(X_test_const)"
   ]
  },
  {
   "cell_type": "code",
   "execution_count": 55,
   "id": "933fc486-8795-43f6-984b-0efff75c3566",
   "metadata": {},
   "outputs": [
    {
     "name": "stdout",
     "output_type": "stream",
     "text": [
      "Test Set Performance:\n",
      "R²: 0.6696\n",
      "RMSE: 50342.59\n"
     ]
    }
   ],
   "source": [
    "# Evaluate model performance using R² and RMSE.\n",
    "r2 = r2_score(y_test, y_pred)\n",
    "rmse = np.sqrt(mean_squared_error(y_test, y_pred))\n",
    "print(\"Test Set Performance:\")\n",
    "print(f\"R²: {r2:.4f}\")\n",
    "print(f\"RMSE: {rmse:.2f}\")"
   ]
  },
  {
   "cell_type": "code",
   "execution_count": 56,
   "id": "46d65d67-5dd2-4b84-84b1-8f36604b38a7",
   "metadata": {},
   "outputs": [
    {
     "name": "stdout",
     "output_type": "stream",
     "text": [
      "\n",
      "OLS Regression Summary:\n",
      "                            OLS Regression Results                            \n",
      "==============================================================================\n",
      "Dep. Variable:              SalePrice   R-squared:                       0.681\n",
      "Model:                            OLS   Adj. R-squared:                  0.674\n",
      "Method:                 Least Squares   F-statistic:                     90.22\n",
      "Date:                Tue, 04 Mar 2025   Prob (F-statistic):          1.58e-260\n",
      "Time:                        11:28:24   Log-Likelihood:                -14135.\n",
      "No. Observations:                1168   AIC:                         2.833e+04\n",
      "Df Residuals:                    1140   BIC:                         2.847e+04\n",
      "Df Model:                          27                                         \n",
      "Covariance Type:            nonrobust                                         \n",
      "===================================================================================\n",
      "                      coef    std err          t      P>|t|      [0.025      0.975]\n",
      "-----------------------------------------------------------------------------------\n",
      "const            6.622e+05   4.16e+04     15.901      0.000    5.81e+05    7.44e+05\n",
      "ExterQual_Fa    -7.595e+04   1.72e+04     -4.405      0.000    -1.1e+05   -4.21e+04\n",
      "ExterQual_Gd    -4.067e+04   8891.383     -4.574      0.000   -5.81e+04   -2.32e+04\n",
      "ExterQual_TA    -6.495e+04   9602.760     -6.763      0.000   -8.38e+04   -4.61e+04\n",
      "BsmtQual_Fa     -9.193e+04   1.07e+04     -8.593      0.000   -1.13e+05   -7.09e+04\n",
      "BsmtQual_Gd      -5.74e+04   6091.575     -9.422      0.000   -6.93e+04   -4.54e+04\n",
      "BsmtQual_TA     -8.296e+04   6549.989    -12.666      0.000   -9.58e+04   -7.01e+04\n",
      "BsmtQual_nan     -1.05e+05   1.06e+04     -9.924      0.000   -1.26e+05   -8.42e+04\n",
      "KitchenQual_Fa  -8.066e+04   1.14e+04     -7.067      0.000   -1.03e+05   -5.83e+04\n",
      "KitchenQual_Gd  -5.094e+04   6927.859     -7.352      0.000   -6.45e+04   -3.73e+04\n",
      "KitchenQual_TA  -7.432e+04   7642.930     -9.724      0.000   -8.93e+04   -5.93e+04\n",
      "FireplaceQu_Fa  -2.182e+04   1.36e+04     -1.610      0.108   -4.84e+04    4779.920\n",
      "FireplaceQu_Gd  -1.103e+04   1.04e+04     -1.062      0.288   -3.14e+04    9338.776\n",
      "FireplaceQu_Po  -4.453e+04   1.53e+04     -2.903      0.004   -7.46e+04   -1.44e+04\n",
      "FireplaceQu_TA  -4966.6478   1.08e+04     -0.462      0.644   -2.61e+04    1.61e+04\n",
      "FireplaceQu_nan -4.478e+04   1.06e+04     -4.217      0.000   -6.56e+04   -2.39e+04\n",
      "GarageQual_Fa    -8.09e+04   2.68e+04     -3.021      0.003   -1.33e+05   -2.84e+04\n",
      "GarageQual_Gd   -3.277e+04   2.87e+04     -1.144      0.253    -8.9e+04    2.34e+04\n",
      "GarageQual_Po    -5.76e+04   4.09e+04     -1.407      0.160   -1.38e+05    2.27e+04\n",
      "GarageQual_TA   -6.036e+04   2.58e+04     -2.343      0.019   -1.11e+05   -9815.928\n",
      "GarageQual_nan  -8.547e+04   2.64e+04     -3.237      0.001   -1.37e+05   -3.37e+04\n",
      "PoolQC_Fa       -1.851e+05   4.49e+04     -4.124      0.000   -2.73e+05   -9.71e+04\n",
      "PoolQC_Gd       -3.122e+05   4.53e+04     -6.890      0.000   -4.01e+05   -2.23e+05\n",
      "PoolQC_nan       -2.11e+05    3.2e+04     -6.585      0.000   -2.74e+05   -1.48e+05\n",
      "Fence_GdWo      -1429.1071   9233.583     -0.155      0.877   -1.95e+04    1.67e+04\n",
      "Fence_MnPrv     -3524.4222   7506.626     -0.470      0.639   -1.83e+04    1.12e+04\n",
      "Fence_MnWw      -5534.5288   1.62e+04     -0.342      0.732   -3.73e+04    2.62e+04\n",
      "Fence_nan        -922.0932   6622.773     -0.139      0.889   -1.39e+04    1.21e+04\n",
      "==============================================================================\n",
      "Omnibus:                      331.044   Durbin-Watson:                   1.998\n",
      "Prob(Omnibus):                  0.000   Jarque-Bera (JB):             2137.036\n",
      "Skew:                           1.145   Prob(JB):                         0.00\n",
      "Kurtosis:                       9.218   Cond. No.                         127.\n",
      "==============================================================================\n",
      "\n",
      "Notes:\n",
      "[1] Standard Errors assume that the covariance matrix of the errors is correctly specified.\n"
     ]
    }
   ],
   "source": [
    "# Print the detailed OLS regression summary (includes variable names, coefficients, and p-values).\n",
    "print(\"\\nOLS Regression Summary:\")\n",
    "print(model.summary())"
   ]
  },
  {
   "cell_type": "markdown",
   "id": "2de6ed2a-25d6-4e6b-9886-0ad20a8bc471",
   "metadata": {},
   "source": [
    "## Kaggle Submission"
   ]
  },
  {
   "cell_type": "code",
   "execution_count": 58,
   "id": "507e61a2-85cc-4a60-8345-42c7a429dead",
   "metadata": {},
   "outputs": [
    {
     "name": "stdout",
     "output_type": "stream",
     "text": [
      "Predicted SalePrice values for test.csv:\n"
     ]
    },
    {
     "name": "stderr",
     "output_type": "stream",
     "text": [
      "C:\\Users\\rober\\AppData\\Roaming\\Python\\Python312\\site-packages\\sklearn\\preprocessing\\_encoders.py:246: UserWarning: Found unknown categories in columns [2] during transform. These unknown categories will be encoded as all zeros\n",
      "  warnings.warn(\n"
     ]
    },
    {
     "data": {
      "text/plain": [
       "0       120345.852013\n",
       "1       146330.126611\n",
       "2       185724.609174\n",
       "3       180081.363940\n",
       "4       196174.953179\n",
       "            ...      \n",
       "1454     97831.197160\n",
       "1455    122948.181018\n",
       "1456    162762.828331\n",
       "1457    120792.978004\n",
       "1458    188326.938179\n",
       "Length: 1459, dtype: float64"
      ]
     },
     "execution_count": 58,
     "metadata": {},
     "output_type": "execute_result"
    }
   ],
   "source": [
    "# Extract features from test.csv\n",
    "X_new = test[features]\n",
    "\n",
    "# Use the previously fitted OneHotEncoder (ohe) to transform the test features.\n",
    "# Note: ohe and feature_names were fitted/extracted from the training process.\n",
    "X_new_encoded = ohe.transform(X_new)\n",
    "\n",
    "# Create a DataFrame with the encoded features using the same column names as in training.\n",
    "X_new_encoded_df = pd.DataFrame(X_new_encoded, columns=feature_names)\n",
    "\n",
    "# Add a constant term for the intercept to match the model's design matrix.\n",
    "X_new_encoded_const = sm.add_constant(X_new_encoded_df, has_constant='add')\n",
    "\n",
    "# Predict SalePrice using the trained OLS model.\n",
    "predictions = model.predict(X_new_encoded_const)\n",
    "\n",
    "print(\"Predicted SalePrice values for test.csv:\")\n",
    "predictions"
   ]
  },
  {
   "cell_type": "code",
   "execution_count": 60,
   "id": "1ace8f25-a0d2-4bc6-8092-d8c72e1adaff",
   "metadata": {},
   "outputs": [
    {
     "name": "stdout",
     "output_type": "stream",
     "text": [
      "Submission file saved as house_prediction_1.csv\n"
     ]
    }
   ],
   "source": [
    "# Create a DataFrame with the Id and predicted SalePrice.\n",
    "submission_df = pd.DataFrame({\n",
    "    'id': test['Id'],\n",
    "    'SalePrice': predictions\n",
    "})\n",
    "\n",
    "# Save the submission DataFrame to a CSV file.\n",
    "submission_df.to_csv(\"house_prediction_1.csv\", index=False)\n",
    "print(\"Submission file saved as house_prediction_1.csv\")"
   ]
  },
  {
   "cell_type": "code",
   "execution_count": null,
   "id": "a421498b-16a9-47e7-bb8b-baa78078c1c6",
   "metadata": {},
   "outputs": [],
   "source": []
  }
 ],
 "metadata": {
  "kernelspec": {
   "display_name": "Python 3 (ipykernel)",
   "language": "python",
   "name": "python3"
  },
  "language_info": {
   "codemirror_mode": {
    "name": "ipython",
    "version": 3
   },
   "file_extension": ".py",
   "mimetype": "text/x-python",
   "name": "python",
   "nbconvert_exporter": "python",
   "pygments_lexer": "ipython3",
   "version": "3.12.9"
  }
 },
 "nbformat": 4,
 "nbformat_minor": 5
}
