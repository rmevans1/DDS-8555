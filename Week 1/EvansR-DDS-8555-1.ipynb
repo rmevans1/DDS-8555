{
 "cells": [
  {
   "cell_type": "markdown",
   "metadata": {},
   "source": [
    "<h1 style=\"text-align:center\">Evaluate Regression and Classifier Metrics</h1>\n",
    "<p style=\"text-align:center\">Robert Evans</p>\n",
    "<p style=\"text-align:center\">School of Technology & Engineering, National University</p>\n",
    "<p style=\"text-align:center\">DDS-8555: Predictive Analysis</p>\n",
    "<p style=\"text-align:center\">Dr. Mohammad Yavarimanesh</p>\n",
    "<p style=\"text-align:center\">January 12, 2025</p>"
   ]
  },
  {
   "cell_type": "markdown",
   "metadata": {
    "id": "m0Q_SWmWYsUO"
   },
   "source": [
    "## Load Required Libraries"
   ]
  },
  {
   "cell_type": "code",
   "execution_count": 1,
   "metadata": {
    "id": "o_KhonDkYsBE"
   },
   "outputs": [],
   "source": [
    "import pandas as pd\n",
    "from sklearn import datasets\n",
    "from sklearn.model_selection import train_test_split as tts\n",
    "from sklearn.metrics import mean_absolute_error as MAE\n",
    "from sklearn.metrics import mean_squared_error as MSE\n",
    "from sklearn.metrics import mean_absolute_percentage_error as MAPE\n",
    "from sklearn.metrics import classification_report as cr\n",
    "from numpy import percentile\n",
    "import numpy as np"
   ]
  },
  {
   "cell_type": "markdown",
   "metadata": {
    "id": "LKwMZrPa8fqy"
   },
   "source": [
    "## Load the Data Set"
   ]
  },
  {
   "cell_type": "code",
   "execution_count": 2,
   "metadata": {
    "colab": {
     "base_uri": "https://localhost:8080/",
     "height": 424
    },
    "id": "6YUqd9Q68agG",
    "outputId": "9cf270e6-3eca-4e09-e3ff-c1c9ffa541b5"
   },
   "outputs": [
    {
     "data": {
      "text/html": [
       "<div>\n",
       "<style scoped>\n",
       "    .dataframe tbody tr th:only-of-type {\n",
       "        vertical-align: middle;\n",
       "    }\n",
       "\n",
       "    .dataframe tbody tr th {\n",
       "        vertical-align: top;\n",
       "    }\n",
       "\n",
       "    .dataframe thead th {\n",
       "        text-align: right;\n",
       "    }\n",
       "</style>\n",
       "<table border=\"1\" class=\"dataframe\">\n",
       "  <thead>\n",
       "    <tr style=\"text-align: right;\">\n",
       "      <th></th>\n",
       "      <th>sepal length (cm)</th>\n",
       "      <th>sepal width (cm)</th>\n",
       "      <th>petal length (cm)</th>\n",
       "      <th>petal width (cm)</th>\n",
       "      <th>type</th>\n",
       "    </tr>\n",
       "  </thead>\n",
       "  <tbody>\n",
       "    <tr>\n",
       "      <th>0</th>\n",
       "      <td>5.1</td>\n",
       "      <td>3.5</td>\n",
       "      <td>1.4</td>\n",
       "      <td>0.2</td>\n",
       "      <td>0</td>\n",
       "    </tr>\n",
       "    <tr>\n",
       "      <th>1</th>\n",
       "      <td>4.9</td>\n",
       "      <td>3.0</td>\n",
       "      <td>1.4</td>\n",
       "      <td>0.2</td>\n",
       "      <td>0</td>\n",
       "    </tr>\n",
       "    <tr>\n",
       "      <th>2</th>\n",
       "      <td>4.7</td>\n",
       "      <td>3.2</td>\n",
       "      <td>1.3</td>\n",
       "      <td>0.2</td>\n",
       "      <td>0</td>\n",
       "    </tr>\n",
       "    <tr>\n",
       "      <th>3</th>\n",
       "      <td>4.6</td>\n",
       "      <td>3.1</td>\n",
       "      <td>1.5</td>\n",
       "      <td>0.2</td>\n",
       "      <td>0</td>\n",
       "    </tr>\n",
       "    <tr>\n",
       "      <th>4</th>\n",
       "      <td>5.0</td>\n",
       "      <td>3.6</td>\n",
       "      <td>1.4</td>\n",
       "      <td>0.2</td>\n",
       "      <td>0</td>\n",
       "    </tr>\n",
       "    <tr>\n",
       "      <th>...</th>\n",
       "      <td>...</td>\n",
       "      <td>...</td>\n",
       "      <td>...</td>\n",
       "      <td>...</td>\n",
       "      <td>...</td>\n",
       "    </tr>\n",
       "    <tr>\n",
       "      <th>145</th>\n",
       "      <td>6.7</td>\n",
       "      <td>3.0</td>\n",
       "      <td>5.2</td>\n",
       "      <td>2.3</td>\n",
       "      <td>2</td>\n",
       "    </tr>\n",
       "    <tr>\n",
       "      <th>146</th>\n",
       "      <td>6.3</td>\n",
       "      <td>2.5</td>\n",
       "      <td>5.0</td>\n",
       "      <td>1.9</td>\n",
       "      <td>2</td>\n",
       "    </tr>\n",
       "    <tr>\n",
       "      <th>147</th>\n",
       "      <td>6.5</td>\n",
       "      <td>3.0</td>\n",
       "      <td>5.2</td>\n",
       "      <td>2.0</td>\n",
       "      <td>2</td>\n",
       "    </tr>\n",
       "    <tr>\n",
       "      <th>148</th>\n",
       "      <td>6.2</td>\n",
       "      <td>3.4</td>\n",
       "      <td>5.4</td>\n",
       "      <td>2.3</td>\n",
       "      <td>2</td>\n",
       "    </tr>\n",
       "    <tr>\n",
       "      <th>149</th>\n",
       "      <td>5.9</td>\n",
       "      <td>3.0</td>\n",
       "      <td>5.1</td>\n",
       "      <td>1.8</td>\n",
       "      <td>2</td>\n",
       "    </tr>\n",
       "  </tbody>\n",
       "</table>\n",
       "<p>150 rows × 5 columns</p>\n",
       "</div>"
      ],
      "text/plain": [
       "     sepal length (cm)  sepal width (cm)  petal length (cm)  petal width (cm)  \\\n",
       "0                  5.1               3.5                1.4               0.2   \n",
       "1                  4.9               3.0                1.4               0.2   \n",
       "2                  4.7               3.2                1.3               0.2   \n",
       "3                  4.6               3.1                1.5               0.2   \n",
       "4                  5.0               3.6                1.4               0.2   \n",
       "..                 ...               ...                ...               ...   \n",
       "145                6.7               3.0                5.2               2.3   \n",
       "146                6.3               2.5                5.0               1.9   \n",
       "147                6.5               3.0                5.2               2.0   \n",
       "148                6.2               3.4                5.4               2.3   \n",
       "149                5.9               3.0                5.1               1.8   \n",
       "\n",
       "    type  \n",
       "0      0  \n",
       "1      0  \n",
       "2      0  \n",
       "3      0  \n",
       "4      0  \n",
       "..   ...  \n",
       "145    2  \n",
       "146    2  \n",
       "147    2  \n",
       "148    2  \n",
       "149    2  \n",
       "\n",
       "[150 rows x 5 columns]"
      ]
     },
     "execution_count": 2,
     "metadata": {},
     "output_type": "execute_result"
    }
   ],
   "source": [
    "iris = pd.DataFrame(datasets.load_iris().data)\n",
    "iris.columns = datasets.load_iris().feature_names\n",
    "iris['type'] = datasets.load_iris().target\n",
    "iris['type'] = iris['type'].astype('object')\n",
    "iris"
   ]
  },
  {
   "cell_type": "markdown",
   "metadata": {
    "id": "6npNM3Cs8-9T"
   },
   "source": [
    "## Creating a New Feature\n",
    "\n",
    "New feature is the sepal length * sepal width divided by petal length * petal width"
   ]
  },
  {
   "cell_type": "code",
   "execution_count": 3,
   "metadata": {
    "id": "pTkV48r18-ld"
   },
   "outputs": [],
   "source": [
    "iris['new'] = (iris.iloc[:,0] * iris.iloc[:,1]) / (iris.iloc[:,2] * iris.iloc[:,3])"
   ]
  },
  {
   "cell_type": "code",
   "execution_count": 4,
   "metadata": {
    "colab": {
     "base_uri": "https://localhost:8080/",
     "height": 424
    },
    "id": "wAZSupDB8tjG",
    "outputId": "32cf1544-c604-43f4-bee7-55796f80aafb"
   },
   "outputs": [
    {
     "data": {
      "text/html": [
       "<div>\n",
       "<style scoped>\n",
       "    .dataframe tbody tr th:only-of-type {\n",
       "        vertical-align: middle;\n",
       "    }\n",
       "\n",
       "    .dataframe tbody tr th {\n",
       "        vertical-align: top;\n",
       "    }\n",
       "\n",
       "    .dataframe thead th {\n",
       "        text-align: right;\n",
       "    }\n",
       "</style>\n",
       "<table border=\"1\" class=\"dataframe\">\n",
       "  <thead>\n",
       "    <tr style=\"text-align: right;\">\n",
       "      <th></th>\n",
       "      <th>sepal length (cm)</th>\n",
       "      <th>sepal width (cm)</th>\n",
       "      <th>petal length (cm)</th>\n",
       "      <th>petal width (cm)</th>\n",
       "      <th>type</th>\n",
       "      <th>new</th>\n",
       "    </tr>\n",
       "  </thead>\n",
       "  <tbody>\n",
       "    <tr>\n",
       "      <th>0</th>\n",
       "      <td>5.1</td>\n",
       "      <td>3.5</td>\n",
       "      <td>1.4</td>\n",
       "      <td>0.2</td>\n",
       "      <td>0</td>\n",
       "      <td>63.750000</td>\n",
       "    </tr>\n",
       "    <tr>\n",
       "      <th>1</th>\n",
       "      <td>4.9</td>\n",
       "      <td>3.0</td>\n",
       "      <td>1.4</td>\n",
       "      <td>0.2</td>\n",
       "      <td>0</td>\n",
       "      <td>52.500000</td>\n",
       "    </tr>\n",
       "    <tr>\n",
       "      <th>2</th>\n",
       "      <td>4.7</td>\n",
       "      <td>3.2</td>\n",
       "      <td>1.3</td>\n",
       "      <td>0.2</td>\n",
       "      <td>0</td>\n",
       "      <td>57.846154</td>\n",
       "    </tr>\n",
       "    <tr>\n",
       "      <th>3</th>\n",
       "      <td>4.6</td>\n",
       "      <td>3.1</td>\n",
       "      <td>1.5</td>\n",
       "      <td>0.2</td>\n",
       "      <td>0</td>\n",
       "      <td>47.533333</td>\n",
       "    </tr>\n",
       "    <tr>\n",
       "      <th>4</th>\n",
       "      <td>5.0</td>\n",
       "      <td>3.6</td>\n",
       "      <td>1.4</td>\n",
       "      <td>0.2</td>\n",
       "      <td>0</td>\n",
       "      <td>64.285714</td>\n",
       "    </tr>\n",
       "    <tr>\n",
       "      <th>...</th>\n",
       "      <td>...</td>\n",
       "      <td>...</td>\n",
       "      <td>...</td>\n",
       "      <td>...</td>\n",
       "      <td>...</td>\n",
       "      <td>...</td>\n",
       "    </tr>\n",
       "    <tr>\n",
       "      <th>145</th>\n",
       "      <td>6.7</td>\n",
       "      <td>3.0</td>\n",
       "      <td>5.2</td>\n",
       "      <td>2.3</td>\n",
       "      <td>2</td>\n",
       "      <td>1.680602</td>\n",
       "    </tr>\n",
       "    <tr>\n",
       "      <th>146</th>\n",
       "      <td>6.3</td>\n",
       "      <td>2.5</td>\n",
       "      <td>5.0</td>\n",
       "      <td>1.9</td>\n",
       "      <td>2</td>\n",
       "      <td>1.657895</td>\n",
       "    </tr>\n",
       "    <tr>\n",
       "      <th>147</th>\n",
       "      <td>6.5</td>\n",
       "      <td>3.0</td>\n",
       "      <td>5.2</td>\n",
       "      <td>2.0</td>\n",
       "      <td>2</td>\n",
       "      <td>1.875000</td>\n",
       "    </tr>\n",
       "    <tr>\n",
       "      <th>148</th>\n",
       "      <td>6.2</td>\n",
       "      <td>3.4</td>\n",
       "      <td>5.4</td>\n",
       "      <td>2.3</td>\n",
       "      <td>2</td>\n",
       "      <td>1.697262</td>\n",
       "    </tr>\n",
       "    <tr>\n",
       "      <th>149</th>\n",
       "      <td>5.9</td>\n",
       "      <td>3.0</td>\n",
       "      <td>5.1</td>\n",
       "      <td>1.8</td>\n",
       "      <td>2</td>\n",
       "      <td>1.928105</td>\n",
       "    </tr>\n",
       "  </tbody>\n",
       "</table>\n",
       "<p>150 rows × 6 columns</p>\n",
       "</div>"
      ],
      "text/plain": [
       "     sepal length (cm)  sepal width (cm)  petal length (cm)  petal width (cm)  \\\n",
       "0                  5.1               3.5                1.4               0.2   \n",
       "1                  4.9               3.0                1.4               0.2   \n",
       "2                  4.7               3.2                1.3               0.2   \n",
       "3                  4.6               3.1                1.5               0.2   \n",
       "4                  5.0               3.6                1.4               0.2   \n",
       "..                 ...               ...                ...               ...   \n",
       "145                6.7               3.0                5.2               2.3   \n",
       "146                6.3               2.5                5.0               1.9   \n",
       "147                6.5               3.0                5.2               2.0   \n",
       "148                6.2               3.4                5.4               2.3   \n",
       "149                5.9               3.0                5.1               1.8   \n",
       "\n",
       "    type        new  \n",
       "0      0  63.750000  \n",
       "1      0  52.500000  \n",
       "2      0  57.846154  \n",
       "3      0  47.533333  \n",
       "4      0  64.285714  \n",
       "..   ...        ...  \n",
       "145    2   1.680602  \n",
       "146    2   1.657895  \n",
       "147    2   1.875000  \n",
       "148    2   1.697262  \n",
       "149    2   1.928105  \n",
       "\n",
       "[150 rows x 6 columns]"
      ]
     },
     "execution_count": 4,
     "metadata": {},
     "output_type": "execute_result"
    }
   ],
   "source": [
    "# Show the dataset with the new feature\n",
    "iris"
   ]
  },
  {
   "cell_type": "markdown",
   "metadata": {
    "id": "ptzWysm192N7"
   },
   "source": [
    "## Split the data set\n",
    "\n",
    "This will be an 80/20 train/test split"
   ]
  },
  {
   "cell_type": "code",
   "execution_count": 5,
   "metadata": {
    "id": "2v8r4tOS9kLz"
   },
   "outputs": [],
   "source": [
    "X_train, X_test, y_train, y_test = tts(iris.iloc[:,0:4], iris.iloc[:,4], test_size=0.2, random_state=42,\n",
    "stratify=iris.iloc[:,4])"
   ]
  },
  {
   "cell_type": "code",
   "execution_count": 6,
   "metadata": {
    "id": "5omF7aw6ZCKo"
   },
   "outputs": [],
   "source": [
    "def myf(y, yhat):\n",
    "  ME = np.round(np.mean(y-yhat), 3)\n",
    "  MPE = np.round(np.mean((y-yhat)/y), 3)\n",
    "  myMAE = np.round(MAE(y, yhat), 3)\n",
    "  myMSE = np.round(MSE(y, yhat), 3)\n",
    "  myMAPE = np.round(MAPE(y, yhat), 3)\n",
    "  print(f'\\tME: {ME}\\n\\tMPE: {MPE}\\n\\tMAE: {myMAE}\\n\\tMSE: {myMSE}\\n\\tMAPE: {myMAPE}')"
   ]
  },
  {
   "cell_type": "markdown",
   "metadata": {
    "id": "l4GFuZPlbX0o"
   },
   "source": [
    "## Evaluating Estimators for Sepal Width"
   ]
  },
  {
   "cell_type": "code",
   "execution_count": 7,
   "metadata": {
    "colab": {
     "base_uri": "https://localhost:8080/",
     "height": 0
    },
    "id": "91smM_ek-B0Z",
    "outputId": "5b83a3c8-0220-4c20-89fe-e95380be02ff"
   },
   "outputs": [
    {
     "name": "stdout",
     "output_type": "stream",
     "text": [
      "Results for Mean of Petal Length\n",
      "\tME: -0.677\n",
      "\tMPE: -0.237\n",
      "\tMAE: 0.694\n",
      "\tMSE: 0.602\n",
      "\tMAPE: 0.242\n",
      "\n",
      "Results for Mean of Sepal Length minus Mean of Petal Width\n",
      "\tME: -1.543\n",
      "\tMPE: -0.522\n",
      "\tMAE: 1.543\n",
      "\tMSE: 2.526\n",
      "\tMAPE: 0.522\n"
     ]
    }
   ],
   "source": [
    "est1=np.mean(X_train['petal length (cm)'])\n",
    "\n",
    "est2=np.mean(X_train['sepal length (cm)']-X_train['petal width (cm)'])\n",
    "\n",
    "est1=[est1]*len(y_test)\n",
    "\n",
    "est2=[est2]*len(y_test)\n",
    "\n",
    "print(\"Results for Mean of Petal Length\")\n",
    "myf(X_test['sepal width (cm)'],est1)\n",
    "print()\n",
    "print(\"Results for Mean of Sepal Length minus Mean of Petal Width\")\n",
    "myf(X_test['sepal width (cm)'],est2)"
   ]
  },
  {
   "cell_type": "markdown",
   "metadata": {
    "id": "8f2dhlnCbc0s"
   },
   "source": [
    "## Evaluating Classifiers"
   ]
  },
  {
   "cell_type": "code",
   "execution_count": 8,
   "metadata": {
    "colab": {
     "base_uri": "https://localhost:8080/",
     "height": 0
    },
    "id": "C1CWuF4x-LG4",
    "outputId": "03ae01a3-b439-42ff-f071-a0f254ca7f8e"
   },
   "outputs": [
    {
     "name": "stdout",
     "output_type": "stream",
     "text": [
      "Classification of 1st and 2nd Quartile\n",
      "              precision    recall  f1-score   support\n",
      "\n",
      "           0       0.71      0.50      0.59        10\n",
      "           1       0.33      0.20      0.25        10\n",
      "           2       0.59      1.00      0.74        10\n",
      "\n",
      "    accuracy                           0.57        30\n",
      "   macro avg       0.55      0.57      0.53        30\n",
      "weighted avg       0.55      0.57      0.53        30\n",
      "\n",
      "\n",
      "Classification of 3rd and 4th Quartile\n",
      "              precision    recall  f1-score   support\n",
      "\n",
      "           0       0.71      0.50      0.59        10\n",
      "           1       0.33      0.20      0.25        10\n",
      "           2       0.59      1.00      0.74        10\n",
      "\n",
      "    accuracy                           0.57        30\n",
      "   macro avg       0.55      0.57      0.53        30\n",
      "weighted avg       0.55      0.57      0.53        30\n",
      "\n"
     ]
    }
   ],
   "source": [
    "est3=percentile(X_train['sepal length (cm)'], [25, 50])\n",
    "y_hat=np.zeros(len(y_test))\n",
    "y_hat[X_test['sepal length (cm)']>est3[0]]=1\n",
    "y_hat[X_test['sepal length (cm)']>est3[1]]=2\n",
    "y_hat=y_hat.astype('int')\n",
    "print(\"Classification of 1st and 2nd Quartile\")\n",
    "print(cr(y_test.astype('int'),y_hat))\n",
    "\n",
    "print()\n",
    "\n",
    "est4=percentile(X_train['sepal length (cm)'], [50,75])\n",
    "y_hat2=np.zeros(len(y_test))\n",
    "y_hat2[X_test['sepal length (cm)']>est3[0]]=1\n",
    "y_hat2[X_test['sepal length (cm)']>est3[1]]=2\n",
    "y_hat2=y_hat2.astype('int')\n",
    "print(\"Classification of 3rd and 4th Quartile\")\n",
    "print(cr(y_test.astype('int'),y_hat2))"
   ]
  },
  {
   "cell_type": "code",
   "execution_count": null,
   "metadata": {
    "id": "AKxuetIzbz3L"
   },
   "outputs": [],
   "source": []
  }
 ],
 "metadata": {
  "colab": {
   "provenance": []
  },
  "kernelspec": {
   "display_name": "Python 3 (ipykernel)",
   "language": "python",
   "name": "python3"
  },
  "language_info": {
   "codemirror_mode": {
    "name": "ipython",
    "version": 3
   },
   "file_extension": ".py",
   "mimetype": "text/x-python",
   "name": "python",
   "nbconvert_exporter": "python",
   "pygments_lexer": "ipython3",
   "version": "3.12.2"
  }
 },
 "nbformat": 4,
 "nbformat_minor": 4
}
