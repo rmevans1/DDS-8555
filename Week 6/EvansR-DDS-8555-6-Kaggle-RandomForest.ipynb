{
 "cells": [
  {
   "cell_type": "markdown",
   "id": "814b3083-fe86-4e88-84ed-b7fcd254b35e",
   "metadata": {},
   "source": [
    "<h1 style=\"text-align:center\">Build and Evaluate Tree Models</h1>\n",
    "<h2 style=\"text-align:center\">Kaggle Submission- Random Forest</h2>\n",
    "<p style=\"text-align:center\">Robert Evans</p>\n",
    "<p style=\"text-align:center\">School of Technology & Engineering, National University</p>\n",
    "<p style=\"text-align:center\">DDS-8555: Predictive Analysis</p>\n",
    "<p style=\"text-align:center\">Dr. Mohammad Yavarimanesh</p>\n",
    "<p style=\"text-align:center\">February 16, 2025</p>"
   ]
  },
  {
   "cell_type": "markdown",
   "id": "ac1f74d2",
   "metadata": {
    "_cell_guid": "b1076dfc-b9ad-4769-8c92-a6c4dae69d19",
    "_uuid": "8f2839f25d086af736a60e9eeb907d3b93b6e0e5",
    "papermill": {
     "duration": 0.005469,
     "end_time": "2025-02-17T01:33:49.675513",
     "exception": false,
     "start_time": "2025-02-17T01:33:49.670044",
     "status": "completed"
    },
    "tags": []
   },
   "source": [
    "## Import Libraries"
   ]
  },
  {
   "cell_type": "code",
   "execution_count": 1,
   "id": "216fe3b7",
   "metadata": {
    "execution": {
     "iopub.execute_input": "2025-02-17T01:33:49.685747Z",
     "iopub.status.busy": "2025-02-17T01:33:49.685367Z",
     "iopub.status.idle": "2025-02-17T01:33:52.757785Z",
     "shell.execute_reply": "2025-02-17T01:33:52.756228Z"
    },
    "papermill": {
     "duration": 3.079651,
     "end_time": "2025-02-17T01:33:52.759877",
     "exception": false,
     "start_time": "2025-02-17T01:33:49.680226",
     "status": "completed"
    },
    "tags": []
   },
   "outputs": [],
   "source": [
    "import pandas as pd\n",
    "from sklearn.model_selection import train_test_split\n",
    "from sklearn.preprocessing import OneHotEncoder, StandardScaler\n",
    "from sklearn.compose import ColumnTransformer\n",
    "from sklearn.pipeline import Pipeline\n",
    "from sklearn.ensemble import RandomForestClassifier\n",
    "from sklearn.metrics import accuracy_score, classification_report"
   ]
  },
  {
   "cell_type": "markdown",
   "id": "b9906235",
   "metadata": {
    "papermill": {
     "duration": 0.003901,
     "end_time": "2025-02-17T01:33:52.768394",
     "exception": false,
     "start_time": "2025-02-17T01:33:52.764493",
     "status": "completed"
    },
    "tags": []
   },
   "source": [
    "## Load Data"
   ]
  },
  {
   "cell_type": "code",
   "execution_count": 2,
   "id": "ef9ad800",
   "metadata": {
    "execution": {
     "iopub.execute_input": "2025-02-17T01:33:52.778889Z",
     "iopub.status.busy": "2025-02-17T01:33:52.778391Z",
     "iopub.status.idle": "2025-02-17T01:33:52.962817Z",
     "shell.execute_reply": "2025-02-17T01:33:52.961705Z"
    },
    "papermill": {
     "duration": 0.192106,
     "end_time": "2025-02-17T01:33:52.964743",
     "exception": false,
     "start_time": "2025-02-17T01:33:52.772637",
     "status": "completed"
    },
    "tags": []
   },
   "outputs": [],
   "source": [
    "train = pd.read_csv('/kaggle/input/playground-series-s4e2/train.csv')\n",
    "test = pd.read_csv('/kaggle/input/playground-series-s4e2/test.csv')"
   ]
  },
  {
   "cell_type": "markdown",
   "id": "b569e565",
   "metadata": {
    "papermill": {
     "duration": 0.003736,
     "end_time": "2025-02-17T01:33:52.972885",
     "exception": false,
     "start_time": "2025-02-17T01:33:52.969149",
     "status": "completed"
    },
    "tags": []
   },
   "source": [
    "## Data Preparation"
   ]
  },
  {
   "cell_type": "code",
   "execution_count": 3,
   "id": "7e205219",
   "metadata": {
    "execution": {
     "iopub.execute_input": "2025-02-17T01:33:52.982634Z",
     "iopub.status.busy": "2025-02-17T01:33:52.982227Z",
     "iopub.status.idle": "2025-02-17T01:33:53.000562Z",
     "shell.execute_reply": "2025-02-17T01:33:52.998912Z"
    },
    "papermill": {
     "duration": 0.025614,
     "end_time": "2025-02-17T01:33:53.002612",
     "exception": false,
     "start_time": "2025-02-17T01:33:52.976998",
     "status": "completed"
    },
    "tags": []
   },
   "outputs": [],
   "source": [
    "# Define features and target variable\n",
    "X = train.drop(columns=['id', 'NObeyesdad'])  # Exclude target column\n",
    "y = train['NObeyesdad']  # Target column"
   ]
  },
  {
   "cell_type": "code",
   "execution_count": 4,
   "id": "e426fc5c",
   "metadata": {
    "execution": {
     "iopub.execute_input": "2025-02-17T01:33:53.013020Z",
     "iopub.status.busy": "2025-02-17T01:33:53.012666Z",
     "iopub.status.idle": "2025-02-17T01:33:53.021447Z",
     "shell.execute_reply": "2025-02-17T01:33:53.019881Z"
    },
    "papermill": {
     "duration": 0.016387,
     "end_time": "2025-02-17T01:33:53.023645",
     "exception": false,
     "start_time": "2025-02-17T01:33:53.007258",
     "status": "completed"
    },
    "tags": []
   },
   "outputs": [],
   "source": [
    "# Identify categorical and numerical features\n",
    "categorical_features = X.select_dtypes(include=['object', 'category']).columns\n",
    "# Create a column transformer for one-hot encoding and scaling\n",
    "preprocessor = ColumnTransformer(transformers=[\n",
    "    ('cat', OneHotEncoder(drop='first', handle_unknown='ignore'), categorical_features),\n",
    "])\n",
    "\n",
    "# Create a pipeline with preprocessing and Support Vector Machine classifier\n",
    "pipeline = Pipeline(steps=[\n",
    "    ('preprocessor', preprocessor),\n",
    "    ('classifier', RandomForestClassifier(n_estimators=100, random_state=42))\n",
    "])"
   ]
  },
  {
   "cell_type": "markdown",
   "id": "668e5e63",
   "metadata": {
    "papermill": {
     "duration": 0.003975,
     "end_time": "2025-02-17T01:33:53.032049",
     "exception": false,
     "start_time": "2025-02-17T01:33:53.028074",
     "status": "completed"
    },
    "tags": []
   },
   "source": [
    "## Build The Model"
   ]
  },
  {
   "cell_type": "code",
   "execution_count": 5,
   "id": "ee767fa2",
   "metadata": {
    "execution": {
     "iopub.execute_input": "2025-02-17T01:33:53.042311Z",
     "iopub.status.busy": "2025-02-17T01:33:53.041890Z",
     "iopub.status.idle": "2025-02-17T01:33:53.054156Z",
     "shell.execute_reply": "2025-02-17T01:33:53.053048Z"
    },
    "papermill": {
     "duration": 0.019416,
     "end_time": "2025-02-17T01:33:53.056125",
     "exception": false,
     "start_time": "2025-02-17T01:33:53.036709",
     "status": "completed"
    },
    "tags": []
   },
   "outputs": [],
   "source": [
    "# Perform 80/20 train/test split\n",
    "X_train, X_test, y_train, y_test = train_test_split(X, y, test_size=0.2, random_state=42)"
   ]
  },
  {
   "cell_type": "code",
   "execution_count": 6,
   "id": "f6c0edc2",
   "metadata": {
    "execution": {
     "iopub.execute_input": "2025-02-17T01:33:53.065731Z",
     "iopub.status.busy": "2025-02-17T01:33:53.065390Z",
     "iopub.status.idle": "2025-02-17T01:33:53.852852Z",
     "shell.execute_reply": "2025-02-17T01:33:53.851686Z"
    },
    "papermill": {
     "duration": 0.794245,
     "end_time": "2025-02-17T01:33:53.854661",
     "exception": false,
     "start_time": "2025-02-17T01:33:53.060416",
     "status": "completed"
    },
    "tags": []
   },
   "outputs": [
    {
     "data": {
      "text/html": [
       "<style>#sk-container-id-1 {color: black;background-color: white;}#sk-container-id-1 pre{padding: 0;}#sk-container-id-1 div.sk-toggleable {background-color: white;}#sk-container-id-1 label.sk-toggleable__label {cursor: pointer;display: block;width: 100%;margin-bottom: 0;padding: 0.3em;box-sizing: border-box;text-align: center;}#sk-container-id-1 label.sk-toggleable__label-arrow:before {content: \"▸\";float: left;margin-right: 0.25em;color: #696969;}#sk-container-id-1 label.sk-toggleable__label-arrow:hover:before {color: black;}#sk-container-id-1 div.sk-estimator:hover label.sk-toggleable__label-arrow:before {color: black;}#sk-container-id-1 div.sk-toggleable__content {max-height: 0;max-width: 0;overflow: hidden;text-align: left;background-color: #f0f8ff;}#sk-container-id-1 div.sk-toggleable__content pre {margin: 0.2em;color: black;border-radius: 0.25em;background-color: #f0f8ff;}#sk-container-id-1 input.sk-toggleable__control:checked~div.sk-toggleable__content {max-height: 200px;max-width: 100%;overflow: auto;}#sk-container-id-1 input.sk-toggleable__control:checked~label.sk-toggleable__label-arrow:before {content: \"▾\";}#sk-container-id-1 div.sk-estimator input.sk-toggleable__control:checked~label.sk-toggleable__label {background-color: #d4ebff;}#sk-container-id-1 div.sk-label input.sk-toggleable__control:checked~label.sk-toggleable__label {background-color: #d4ebff;}#sk-container-id-1 input.sk-hidden--visually {border: 0;clip: rect(1px 1px 1px 1px);clip: rect(1px, 1px, 1px, 1px);height: 1px;margin: -1px;overflow: hidden;padding: 0;position: absolute;width: 1px;}#sk-container-id-1 div.sk-estimator {font-family: monospace;background-color: #f0f8ff;border: 1px dotted black;border-radius: 0.25em;box-sizing: border-box;margin-bottom: 0.5em;}#sk-container-id-1 div.sk-estimator:hover {background-color: #d4ebff;}#sk-container-id-1 div.sk-parallel-item::after {content: \"\";width: 100%;border-bottom: 1px solid gray;flex-grow: 1;}#sk-container-id-1 div.sk-label:hover label.sk-toggleable__label {background-color: #d4ebff;}#sk-container-id-1 div.sk-serial::before {content: \"\";position: absolute;border-left: 1px solid gray;box-sizing: border-box;top: 0;bottom: 0;left: 50%;z-index: 0;}#sk-container-id-1 div.sk-serial {display: flex;flex-direction: column;align-items: center;background-color: white;padding-right: 0.2em;padding-left: 0.2em;position: relative;}#sk-container-id-1 div.sk-item {position: relative;z-index: 1;}#sk-container-id-1 div.sk-parallel {display: flex;align-items: stretch;justify-content: center;background-color: white;position: relative;}#sk-container-id-1 div.sk-item::before, #sk-container-id-1 div.sk-parallel-item::before {content: \"\";position: absolute;border-left: 1px solid gray;box-sizing: border-box;top: 0;bottom: 0;left: 50%;z-index: -1;}#sk-container-id-1 div.sk-parallel-item {display: flex;flex-direction: column;z-index: 1;position: relative;background-color: white;}#sk-container-id-1 div.sk-parallel-item:first-child::after {align-self: flex-end;width: 50%;}#sk-container-id-1 div.sk-parallel-item:last-child::after {align-self: flex-start;width: 50%;}#sk-container-id-1 div.sk-parallel-item:only-child::after {width: 0;}#sk-container-id-1 div.sk-dashed-wrapped {border: 1px dashed gray;margin: 0 0.4em 0.5em 0.4em;box-sizing: border-box;padding-bottom: 0.4em;background-color: white;}#sk-container-id-1 div.sk-label label {font-family: monospace;font-weight: bold;display: inline-block;line-height: 1.2em;}#sk-container-id-1 div.sk-label-container {text-align: center;}#sk-container-id-1 div.sk-container {/* jupyter's `normalize.less` sets `[hidden] { display: none; }` but bootstrap.min.css set `[hidden] { display: none !important; }` so we also need the `!important` here to be able to override the default hidden behavior on the sphinx rendered scikit-learn.org. See: https://github.com/scikit-learn/scikit-learn/issues/21755 */display: inline-block !important;position: relative;}#sk-container-id-1 div.sk-text-repr-fallback {display: none;}</style><div id=\"sk-container-id-1\" class=\"sk-top-container\"><div class=\"sk-text-repr-fallback\"><pre>Pipeline(steps=[(&#x27;preprocessor&#x27;,\n",
       "                 ColumnTransformer(transformers=[(&#x27;cat&#x27;,\n",
       "                                                  OneHotEncoder(drop=&#x27;first&#x27;,\n",
       "                                                                handle_unknown=&#x27;ignore&#x27;),\n",
       "                                                  Index([&#x27;Gender&#x27;, &#x27;family_history_with_overweight&#x27;, &#x27;FAVC&#x27;, &#x27;CAEC&#x27;, &#x27;SMOKE&#x27;,\n",
       "       &#x27;SCC&#x27;, &#x27;CALC&#x27;, &#x27;MTRANS&#x27;],\n",
       "      dtype=&#x27;object&#x27;))])),\n",
       "                (&#x27;classifier&#x27;, RandomForestClassifier(random_state=42))])</pre><b>In a Jupyter environment, please rerun this cell to show the HTML representation or trust the notebook. <br />On GitHub, the HTML representation is unable to render, please try loading this page with nbviewer.org.</b></div><div class=\"sk-container\" hidden><div class=\"sk-item sk-dashed-wrapped\"><div class=\"sk-label-container\"><div class=\"sk-label sk-toggleable\"><input class=\"sk-toggleable__control sk-hidden--visually\" id=\"sk-estimator-id-1\" type=\"checkbox\" ><label for=\"sk-estimator-id-1\" class=\"sk-toggleable__label sk-toggleable__label-arrow\">Pipeline</label><div class=\"sk-toggleable__content\"><pre>Pipeline(steps=[(&#x27;preprocessor&#x27;,\n",
       "                 ColumnTransformer(transformers=[(&#x27;cat&#x27;,\n",
       "                                                  OneHotEncoder(drop=&#x27;first&#x27;,\n",
       "                                                                handle_unknown=&#x27;ignore&#x27;),\n",
       "                                                  Index([&#x27;Gender&#x27;, &#x27;family_history_with_overweight&#x27;, &#x27;FAVC&#x27;, &#x27;CAEC&#x27;, &#x27;SMOKE&#x27;,\n",
       "       &#x27;SCC&#x27;, &#x27;CALC&#x27;, &#x27;MTRANS&#x27;],\n",
       "      dtype=&#x27;object&#x27;))])),\n",
       "                (&#x27;classifier&#x27;, RandomForestClassifier(random_state=42))])</pre></div></div></div><div class=\"sk-serial\"><div class=\"sk-item sk-dashed-wrapped\"><div class=\"sk-label-container\"><div class=\"sk-label sk-toggleable\"><input class=\"sk-toggleable__control sk-hidden--visually\" id=\"sk-estimator-id-2\" type=\"checkbox\" ><label for=\"sk-estimator-id-2\" class=\"sk-toggleable__label sk-toggleable__label-arrow\">preprocessor: ColumnTransformer</label><div class=\"sk-toggleable__content\"><pre>ColumnTransformer(transformers=[(&#x27;cat&#x27;,\n",
       "                                 OneHotEncoder(drop=&#x27;first&#x27;,\n",
       "                                               handle_unknown=&#x27;ignore&#x27;),\n",
       "                                 Index([&#x27;Gender&#x27;, &#x27;family_history_with_overweight&#x27;, &#x27;FAVC&#x27;, &#x27;CAEC&#x27;, &#x27;SMOKE&#x27;,\n",
       "       &#x27;SCC&#x27;, &#x27;CALC&#x27;, &#x27;MTRANS&#x27;],\n",
       "      dtype=&#x27;object&#x27;))])</pre></div></div></div><div class=\"sk-parallel\"><div class=\"sk-parallel-item\"><div class=\"sk-item\"><div class=\"sk-label-container\"><div class=\"sk-label sk-toggleable\"><input class=\"sk-toggleable__control sk-hidden--visually\" id=\"sk-estimator-id-3\" type=\"checkbox\" ><label for=\"sk-estimator-id-3\" class=\"sk-toggleable__label sk-toggleable__label-arrow\">cat</label><div class=\"sk-toggleable__content\"><pre>Index([&#x27;Gender&#x27;, &#x27;family_history_with_overweight&#x27;, &#x27;FAVC&#x27;, &#x27;CAEC&#x27;, &#x27;SMOKE&#x27;,\n",
       "       &#x27;SCC&#x27;, &#x27;CALC&#x27;, &#x27;MTRANS&#x27;],\n",
       "      dtype=&#x27;object&#x27;)</pre></div></div></div><div class=\"sk-serial\"><div class=\"sk-item\"><div class=\"sk-estimator sk-toggleable\"><input class=\"sk-toggleable__control sk-hidden--visually\" id=\"sk-estimator-id-4\" type=\"checkbox\" ><label for=\"sk-estimator-id-4\" class=\"sk-toggleable__label sk-toggleable__label-arrow\">OneHotEncoder</label><div class=\"sk-toggleable__content\"><pre>OneHotEncoder(drop=&#x27;first&#x27;, handle_unknown=&#x27;ignore&#x27;)</pre></div></div></div></div></div></div></div></div><div class=\"sk-item\"><div class=\"sk-estimator sk-toggleable\"><input class=\"sk-toggleable__control sk-hidden--visually\" id=\"sk-estimator-id-5\" type=\"checkbox\" ><label for=\"sk-estimator-id-5\" class=\"sk-toggleable__label sk-toggleable__label-arrow\">RandomForestClassifier</label><div class=\"sk-toggleable__content\"><pre>RandomForestClassifier(random_state=42)</pre></div></div></div></div></div></div></div>"
      ],
      "text/plain": [
       "Pipeline(steps=[('preprocessor',\n",
       "                 ColumnTransformer(transformers=[('cat',\n",
       "                                                  OneHotEncoder(drop='first',\n",
       "                                                                handle_unknown='ignore'),\n",
       "                                                  Index(['Gender', 'family_history_with_overweight', 'FAVC', 'CAEC', 'SMOKE',\n",
       "       'SCC', 'CALC', 'MTRANS'],\n",
       "      dtype='object'))])),\n",
       "                ('classifier', RandomForestClassifier(random_state=42))])"
      ]
     },
     "execution_count": 6,
     "metadata": {},
     "output_type": "execute_result"
    }
   ],
   "source": [
    "# Train the model\n",
    "pipeline.fit(X_train, y_train)"
   ]
  },
  {
   "cell_type": "markdown",
   "id": "3bf70217",
   "metadata": {
    "papermill": {
     "duration": 0.004193,
     "end_time": "2025-02-17T01:33:53.863583",
     "exception": false,
     "start_time": "2025-02-17T01:33:53.859390",
     "status": "completed"
    },
    "tags": []
   },
   "source": [
    "## Evaluate The Model"
   ]
  },
  {
   "cell_type": "code",
   "execution_count": 7,
   "id": "6e2eba87",
   "metadata": {
    "execution": {
     "iopub.execute_input": "2025-02-17T01:33:53.874710Z",
     "iopub.status.busy": "2025-02-17T01:33:53.874353Z",
     "iopub.status.idle": "2025-02-17T01:33:53.960088Z",
     "shell.execute_reply": "2025-02-17T01:33:53.959020Z"
    },
    "papermill": {
     "duration": 0.093625,
     "end_time": "2025-02-17T01:33:53.962108",
     "exception": false,
     "start_time": "2025-02-17T01:33:53.868483",
     "status": "completed"
    },
    "tags": []
   },
   "outputs": [],
   "source": [
    "# Predict the testing dataset\n",
    "y_pred = pipeline.predict(X_test)"
   ]
  },
  {
   "cell_type": "code",
   "execution_count": 8,
   "id": "9c8417e1",
   "metadata": {
    "execution": {
     "iopub.execute_input": "2025-02-17T01:33:53.972575Z",
     "iopub.status.busy": "2025-02-17T01:33:53.972235Z",
     "iopub.status.idle": "2025-02-17T01:33:53.982475Z",
     "shell.execute_reply": "2025-02-17T01:33:53.981186Z"
    },
    "papermill": {
     "duration": 0.017518,
     "end_time": "2025-02-17T01:33:53.984333",
     "exception": false,
     "start_time": "2025-02-17T01:33:53.966815",
     "status": "completed"
    },
    "tags": []
   },
   "outputs": [
    {
     "name": "stdout",
     "output_type": "stream",
     "text": [
      "Accuracy: 0.5783\n"
     ]
    }
   ],
   "source": [
    "# Evaluate the model\n",
    "accuracy = accuracy_score(y_test, y_pred)\n",
    "print(f\"Accuracy: {accuracy:.4f}\")"
   ]
  },
  {
   "cell_type": "code",
   "execution_count": 9,
   "id": "72816246",
   "metadata": {
    "execution": {
     "iopub.execute_input": "2025-02-17T01:33:53.997110Z",
     "iopub.status.busy": "2025-02-17T01:33:53.996618Z",
     "iopub.status.idle": "2025-02-17T01:33:54.139421Z",
     "shell.execute_reply": "2025-02-17T01:33:54.138410Z"
    },
    "papermill": {
     "duration": 0.151175,
     "end_time": "2025-02-17T01:33:54.141336",
     "exception": false,
     "start_time": "2025-02-17T01:33:53.990161",
     "status": "completed"
    },
    "tags": []
   },
   "outputs": [
    {
     "name": "stdout",
     "output_type": "stream",
     "text": [
      "                     precision    recall  f1-score   support\n",
      "\n",
      "Insufficient_Weight       0.62      0.52      0.57       524\n",
      "      Normal_Weight       0.46      0.38      0.42       626\n",
      "     Obesity_Type_I       0.45      0.52      0.48       543\n",
      "    Obesity_Type_II       0.53      0.83      0.65       657\n",
      "   Obesity_Type_III       0.81      1.00      0.89       804\n",
      " Overweight_Level_I       0.57      0.19      0.28       484\n",
      "Overweight_Level_II       0.45      0.32      0.37       514\n",
      "\n",
      "           accuracy                           0.58      4152\n",
      "          macro avg       0.55      0.54      0.52      4152\n",
      "       weighted avg       0.57      0.58      0.55      4152\n",
      "\n"
     ]
    }
   ],
   "source": [
    "print(classification_report(y_test, y_pred))"
   ]
  },
  {
   "cell_type": "markdown",
   "id": "4cab48f3",
   "metadata": {
    "papermill": {
     "duration": 0.00672,
     "end_time": "2025-02-17T01:33:54.153308",
     "exception": false,
     "start_time": "2025-02-17T01:33:54.146588",
     "status": "completed"
    },
    "tags": []
   },
   "source": [
    "## Competition Submission"
   ]
  },
  {
   "cell_type": "code",
   "execution_count": 10,
   "id": "df4b2358",
   "metadata": {
    "execution": {
     "iopub.execute_input": "2025-02-17T01:33:54.168740Z",
     "iopub.status.busy": "2025-02-17T01:33:54.168114Z",
     "iopub.status.idle": "2025-02-17T01:33:54.175633Z",
     "shell.execute_reply": "2025-02-17T01:33:54.174778Z"
    },
    "papermill": {
     "duration": 0.017889,
     "end_time": "2025-02-17T01:33:54.177769",
     "exception": false,
     "start_time": "2025-02-17T01:33:54.159880",
     "status": "completed"
    },
    "tags": []
   },
   "outputs": [],
   "source": [
    "test_X = test.drop(columns=['id'])"
   ]
  },
  {
   "cell_type": "code",
   "execution_count": 11,
   "id": "29e4356b",
   "metadata": {
    "execution": {
     "iopub.execute_input": "2025-02-17T01:33:54.195726Z",
     "iopub.status.busy": "2025-02-17T01:33:54.195227Z",
     "iopub.status.idle": "2025-02-17T01:33:54.465679Z",
     "shell.execute_reply": "2025-02-17T01:33:54.464384Z"
    },
    "papermill": {
     "duration": 0.283416,
     "end_time": "2025-02-17T01:33:54.467481",
     "exception": false,
     "start_time": "2025-02-17T01:33:54.184065",
     "status": "completed"
    },
    "tags": []
   },
   "outputs": [
    {
     "name": "stderr",
     "output_type": "stream",
     "text": [
      "/usr/local/lib/python3.10/dist-packages/sklearn/preprocessing/_encoders.py:202: UserWarning: Found unknown categories in columns [6] during transform. These unknown categories will be encoded as all zeros\n",
      "  warnings.warn(\n"
     ]
    }
   ],
   "source": [
    "test_y = pipeline.predict(test_X)"
   ]
  },
  {
   "cell_type": "code",
   "execution_count": 12,
   "id": "a7fa36d0",
   "metadata": {
    "execution": {
     "iopub.execute_input": "2025-02-17T01:33:54.480508Z",
     "iopub.status.busy": "2025-02-17T01:33:54.480101Z",
     "iopub.status.idle": "2025-02-17T01:33:54.485568Z",
     "shell.execute_reply": "2025-02-17T01:33:54.484505Z"
    },
    "papermill": {
     "duration": 0.014147,
     "end_time": "2025-02-17T01:33:54.487477",
     "exception": false,
     "start_time": "2025-02-17T01:33:54.473330",
     "status": "completed"
    },
    "tags": []
   },
   "outputs": [],
   "source": [
    "submission = pd.DataFrame({'id':test['id'], 'NObeyesdad':test_y})"
   ]
  },
  {
   "cell_type": "code",
   "execution_count": 13,
   "id": "3c2f9bc6",
   "metadata": {
    "execution": {
     "iopub.execute_input": "2025-02-17T01:33:54.498550Z",
     "iopub.status.busy": "2025-02-17T01:33:54.498099Z",
     "iopub.status.idle": "2025-02-17T01:33:54.523599Z",
     "shell.execute_reply": "2025-02-17T01:33:54.522402Z"
    },
    "papermill": {
     "duration": 0.033195,
     "end_time": "2025-02-17T01:33:54.525694",
     "exception": false,
     "start_time": "2025-02-17T01:33:54.492499",
     "status": "completed"
    },
    "tags": []
   },
   "outputs": [],
   "source": [
    "submission.to_csv('submission.csv', index=False)"
   ]
  },
  {
   "cell_type": "code",
   "execution_count": null,
   "id": "6f863707",
   "metadata": {
    "papermill": {
     "duration": 0.004432,
     "end_time": "2025-02-17T01:33:54.535156",
     "exception": false,
     "start_time": "2025-02-17T01:33:54.530724",
     "status": "completed"
    },
    "tags": []
   },
   "outputs": [],
   "source": []
  }
 ],
 "metadata": {
  "kaggle": {
   "accelerator": "none",
   "dataSources": [
    {
     "databundleVersionId": 10950255,
     "sourceId": 68479,
     "sourceType": "competition"
    }
   ],
   "dockerImageVersionId": 30886,
   "isGpuEnabled": false,
   "isInternetEnabled": true,
   "language": "python",
   "sourceType": "notebook"
  },
  "kernelspec": {
   "display_name": "Python 3 (ipykernel)",
   "language": "python",
   "name": "python3"
  },
  "language_info": {
   "codemirror_mode": {
    "name": "ipython",
    "version": 3
   },
   "file_extension": ".py",
   "mimetype": "text/x-python",
   "name": "python",
   "nbconvert_exporter": "python",
   "pygments_lexer": "ipython3",
   "version": "3.12.9"
  },
  "papermill": {
   "default_parameters": {},
   "duration": 8.624902,
   "end_time": "2025-02-17T01:33:55.360510",
   "environment_variables": {},
   "exception": null,
   "input_path": "__notebook__.ipynb",
   "output_path": "__notebook__.ipynb",
   "parameters": {},
   "start_time": "2025-02-17T01:33:46.735608",
   "version": "2.6.0"
  }
 },
 "nbformat": 4,
 "nbformat_minor": 5
}
