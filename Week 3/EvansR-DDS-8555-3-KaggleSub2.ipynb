{
 "cells": [
  {
   "cell_type": "markdown",
   "metadata": {},
   "source": [
    "<h1 style=\"text-align:center\">Build Non-Linear Models Part 1</h1>\n",
    "<h2 style=\"text-align:center\">Kaggle Submission 2</h2>\n",
    "<p style=\"text-align:center\">Robert Evans</p>\n",
    "<p style=\"text-align:center\">School of Technology & Engineering, National University</p>\n",
    "<p style=\"text-align:center\">DDS-8555: Predictive Analysis</p>\n",
    "<p style=\"text-align:center\">Dr. Mohammad Yavarimanesh</p>\n",
    "<p style=\"text-align:center\">January 26, 2025</p>"
   ]
  },
  {
   "cell_type": "markdown",
   "metadata": {},
   "source": [
    "## Import Libraries"
   ]
  },
  {
   "cell_type": "code",
   "execution_count": null,
   "metadata": {
    "_cell_guid": "b1076dfc-b9ad-4769-8c92-a6c4dae69d19",
    "_uuid": "8f2839f25d086af736a60e9eeb907d3b93b6e0e5",
    "execution": {
     "iopub.execute_input": "2025-01-24T18:40:16.620362Z",
     "iopub.status.busy": "2025-01-24T18:40:16.619905Z",
     "iopub.status.idle": "2025-01-24T18:40:20.524023Z",
     "shell.execute_reply": "2025-01-24T18:40:20.522948Z",
     "shell.execute_reply.started": "2025-01-24T18:40:16.620324Z"
    }
   },
   "outputs": [],
   "source": [
    "import pandas as pd\n",
    "from sklearn.model_selection import train_test_split\n",
    "from sklearn.preprocessing import StandardScaler, OneHotEncoder\n",
    "from sklearn.decomposition import PCA\n",
    "from sklearn.linear_model import LinearRegression\n",
    "from sklearn.metrics import mean_squared_error, r2_score\n",
    "import numpy as np\n",
    "import matplotlib.pyplot as plt"
   ]
  },
  {
   "cell_type": "markdown",
   "metadata": {},
   "source": [
    "## Load Data"
   ]
  },
  {
   "cell_type": "code",
   "execution_count": null,
   "metadata": {
    "execution": {
     "iopub.execute_input": "2025-01-24T18:40:26.963902Z",
     "iopub.status.busy": "2025-01-24T18:40:26.963570Z",
     "iopub.status.idle": "2025-01-24T18:40:27.157607Z",
     "shell.execute_reply": "2025-01-24T18:40:27.156332Z",
     "shell.execute_reply.started": "2025-01-24T18:40:26.963882Z"
    }
   },
   "outputs": [],
   "source": [
    "train = pd.read_csv('/kaggle/input/playground-series-s4e4/train.csv')\n",
    "test = pd.read_csv('/kaggle/input/playground-series-s4e4/test.csv')"
   ]
  },
  {
   "cell_type": "markdown",
   "metadata": {},
   "source": [
    "## Preprocess Data"
   ]
  },
  {
   "cell_type": "code",
   "execution_count": null,
   "metadata": {
    "execution": {
     "iopub.execute_input": "2025-01-24T18:40:55.409890Z",
     "iopub.status.busy": "2025-01-24T18:40:55.409450Z",
     "iopub.status.idle": "2025-01-24T18:40:55.439955Z",
     "shell.execute_reply": "2025-01-24T18:40:55.438454Z",
     "shell.execute_reply.started": "2025-01-24T18:40:55.409867Z"
    }
   },
   "outputs": [],
   "source": [
    "# Drop the id column as it's not useful for modeling\n",
    "train = train.drop(columns=['id'])\n",
    "X_test = test.drop(columns=['id'])"
   ]
  },
  {
   "cell_type": "code",
   "execution_count": null,
   "metadata": {
    "execution": {
     "iopub.execute_input": "2025-01-24T18:41:04.492112Z",
     "iopub.status.busy": "2025-01-24T18:41:04.491743Z",
     "iopub.status.idle": "2025-01-24T18:41:04.503337Z",
     "shell.execute_reply": "2025-01-24T18:41:04.502030Z",
     "shell.execute_reply.started": "2025-01-24T18:41:04.492092Z"
    }
   },
   "outputs": [],
   "source": [
    "# Separate features and target variable\n",
    "X = train.drop(columns=['Rings'])\n",
    "y = train['Rings']"
   ]
  },
  {
   "cell_type": "code",
   "execution_count": null,
   "metadata": {
    "execution": {
     "iopub.execute_input": "2025-01-24T18:41:09.606937Z",
     "iopub.status.busy": "2025-01-24T18:41:09.606582Z",
     "iopub.status.idle": "2025-01-24T18:41:09.612937Z",
     "shell.execute_reply": "2025-01-24T18:41:09.611889Z",
     "shell.execute_reply.started": "2025-01-24T18:41:09.606916Z"
    }
   },
   "outputs": [],
   "source": [
    "# Preprocess categorical and numerical columns manually\n",
    "categorical_features = ['Sex']\n",
    "numerical_features = X.select_dtypes(include=['float64']).columns.tolist()"
   ]
  },
  {
   "cell_type": "code",
   "execution_count": null,
   "metadata": {
    "execution": {
     "iopub.execute_input": "2025-01-24T18:41:23.374430Z",
     "iopub.status.busy": "2025-01-24T18:41:23.374125Z",
     "iopub.status.idle": "2025-01-24T18:41:23.423040Z",
     "shell.execute_reply": "2025-01-24T18:41:23.421637Z",
     "shell.execute_reply.started": "2025-01-24T18:41:23.374373Z"
    }
   },
   "outputs": [],
   "source": [
    "# One-hot encode categorical features\n",
    "encoder = OneHotEncoder(drop='first', sparse_output=False)\n",
    "X_categorical_encoded = encoder.fit_transform(X[categorical_features])\n",
    "X_test_categorical_encoded = encoder.fit_transform(X_test[categorical_features])"
   ]
  },
  {
   "cell_type": "code",
   "execution_count": null,
   "metadata": {
    "execution": {
     "iopub.execute_input": "2025-01-24T18:41:31.619541Z",
     "iopub.status.busy": "2025-01-24T18:41:31.619238Z",
     "iopub.status.idle": "2025-01-24T18:41:31.686204Z",
     "shell.execute_reply": "2025-01-24T18:41:31.685026Z",
     "shell.execute_reply.started": "2025-01-24T18:41:31.619523Z"
    }
   },
   "outputs": [],
   "source": [
    "# Standardize numerical features\n",
    "scaler = StandardScaler()\n",
    "X_numerical_scaled = scaler.fit_transform(X[numerical_features])\n",
    "X_test_numerical_scaled = scaler.fit_transform(X_test[numerical_features])"
   ]
  },
  {
   "cell_type": "code",
   "execution_count": null,
   "metadata": {
    "execution": {
     "iopub.execute_input": "2025-01-24T18:41:40.182569Z",
     "iopub.status.busy": "2025-01-24T18:41:40.182277Z",
     "iopub.status.idle": "2025-01-24T18:41:40.191782Z",
     "shell.execute_reply": "2025-01-24T18:41:40.190456Z",
     "shell.execute_reply.started": "2025-01-24T18:41:40.182551Z"
    }
   },
   "outputs": [],
   "source": [
    "# Combine preprocessed features\n",
    "X_preprocessed = np.hstack((X_numerical_scaled, X_categorical_encoded))\n",
    "X_test_preprocessed = np.hstack((X_test_numerical_scaled, X_test_categorical_encoded))"
   ]
  },
  {
   "cell_type": "markdown",
   "metadata": {},
   "source": [
    "## Split Data into training and testing sets"
   ]
  },
  {
   "cell_type": "code",
   "execution_count": null,
   "metadata": {
    "execution": {
     "iopub.execute_input": "2025-01-24T18:42:00.424761Z",
     "iopub.status.busy": "2025-01-24T18:42:00.424504Z",
     "iopub.status.idle": "2025-01-24T18:42:00.445768Z",
     "shell.execute_reply": "2025-01-24T18:42:00.444323Z",
     "shell.execute_reply.started": "2025-01-24T18:42:00.424744Z"
    }
   },
   "outputs": [],
   "source": [
    "# Split data into training and testing sets\n",
    "X_train, X_test, y_train, y_test = train_test_split(X_preprocessed, y, test_size=0.2, random_state=42)"
   ]
  },
  {
   "cell_type": "code",
   "execution_count": null,
   "metadata": {
    "execution": {
     "iopub.execute_input": "2025-01-24T18:42:05.814030Z",
     "iopub.status.busy": "2025-01-24T18:42:05.813664Z",
     "iopub.status.idle": "2025-01-24T18:42:05.826933Z",
     "shell.execute_reply": "2025-01-24T18:42:05.825683Z",
     "shell.execute_reply.started": "2025-01-24T18:42:05.814007Z"
    }
   },
   "outputs": [],
   "source": [
    "y_train_log = np.log1p(y_train)"
   ]
  },
  {
   "cell_type": "markdown",
   "metadata": {},
   "source": [
    "## Build the model"
   ]
  },
  {
   "cell_type": "code",
   "execution_count": null,
   "metadata": {
    "execution": {
     "iopub.execute_input": "2025-01-24T18:42:29.975768Z",
     "iopub.status.busy": "2025-01-24T18:42:29.975496Z",
     "iopub.status.idle": "2025-01-24T18:42:30.119916Z",
     "shell.execute_reply": "2025-01-24T18:42:30.118821Z",
     "shell.execute_reply.started": "2025-01-24T18:42:29.975747Z"
    }
   },
   "outputs": [],
   "source": [
    "# Apply PCA\n",
    "pca = PCA()\n",
    "X_train_pca = pca.fit_transform(X_train)\n",
    "X_test_pca = pca.transform(X_test)"
   ]
  },
  {
   "cell_type": "code",
   "execution_count": null,
   "metadata": {
    "execution": {
     "iopub.execute_input": "2025-01-24T18:42:35.211961Z",
     "iopub.status.busy": "2025-01-24T18:42:35.211693Z",
     "iopub.status.idle": "2025-01-24T18:42:35.217567Z",
     "shell.execute_reply": "2025-01-24T18:42:35.216306Z",
     "shell.execute_reply.started": "2025-01-24T18:42:35.211942Z"
    }
   },
   "outputs": [],
   "source": [
    "# Determine the optimal number of principal components\n",
    "explained_variance_ratio_cumsum = pca.explained_variance_ratio_.cumsum()\n",
    "optimal_components = np.argmax(explained_variance_ratio_cumsum >= 0.95) + 1  # 95% variance threshold\n",
    "print(f\"Optimal number of components: {optimal_components}\")"
   ]
  },
  {
   "cell_type": "code",
   "execution_count": null,
   "metadata": {
    "execution": {
     "iopub.execute_input": "2025-01-24T18:47:26.115662Z",
     "iopub.status.busy": "2025-01-24T18:47:26.115261Z",
     "iopub.status.idle": "2025-01-24T18:47:26.223586Z",
     "shell.execute_reply": "2025-01-24T18:47:26.222163Z",
     "shell.execute_reply.started": "2025-01-24T18:47:26.115640Z"
    }
   },
   "outputs": [],
   "source": [
    "# Use only the optimal number of components\n",
    "pca_optimal = PCA(n_components=optimal_components)\n",
    "X_train_pca_optimal = pca_optimal.fit_transform(X_train)\n",
    "X_test_pca_optimal = pca_optimal.transform(X_test)\n",
    "X_test_preprocessed_pca_optimal = pca_optimal.transform(X_test_preprocessed)"
   ]
  },
  {
   "cell_type": "code",
   "execution_count": null,
   "metadata": {
    "execution": {
     "iopub.execute_input": "2025-01-24T18:42:48.628553Z",
     "iopub.status.busy": "2025-01-24T18:42:48.628248Z",
     "iopub.status.idle": "2025-01-24T18:42:48.669148Z",
     "shell.execute_reply": "2025-01-24T18:42:48.667877Z",
     "shell.execute_reply.started": "2025-01-24T18:42:48.628535Z"
    }
   },
   "outputs": [],
   "source": [
    "# Fit linear regression on the reduced data\n",
    "linear_regression = LinearRegression()\n",
    "linear_regression.fit(X_train_pca_optimal, y_train_log)"
   ]
  },
  {
   "cell_type": "code",
   "execution_count": null,
   "metadata": {
    "execution": {
     "iopub.execute_input": "2025-01-24T18:49:11.804691Z",
     "iopub.status.busy": "2025-01-24T18:49:11.804410Z",
     "iopub.status.idle": "2025-01-24T18:49:11.810586Z",
     "shell.execute_reply": "2025-01-24T18:49:11.809497Z",
     "shell.execute_reply.started": "2025-01-24T18:49:11.804674Z"
    }
   },
   "outputs": [],
   "source": [
    "# Make predictions (apply inverse transformation to revert to original scale)\n",
    "y_pred_log = linear_regression.predict(X_test_pca_optimal)\n",
    "y_test_pred_log = linear_regression.predict(X_test_preprocessed_pca_optimal)\n",
    "y_pred_pca = np.expm1(y_pred_log)  # Apply expm1 to reverse log1p transformation\n",
    "y_test_pred_pca = np.expm1(y_test_pred_log)"
   ]
  },
  {
   "cell_type": "code",
   "execution_count": null,
   "metadata": {
    "execution": {
     "iopub.execute_input": "2025-01-24T18:43:15.149907Z",
     "iopub.status.busy": "2025-01-24T18:43:15.149635Z",
     "iopub.status.idle": "2025-01-24T18:43:15.156787Z",
     "shell.execute_reply": "2025-01-24T18:43:15.155603Z",
     "shell.execute_reply.started": "2025-01-24T18:43:15.149888Z"
    }
   },
   "outputs": [],
   "source": [
    "# Evaluate performance\n",
    "pca_mse = mean_squared_error(y_test, y_pred_pca)\n",
    "pca_r2 = r2_score(y_test, y_pred_pca)"
   ]
  },
  {
   "cell_type": "code",
   "execution_count": null,
   "metadata": {
    "execution": {
     "iopub.execute_input": "2025-01-24T18:43:23.468358Z",
     "iopub.status.busy": "2025-01-24T18:43:23.468001Z",
     "iopub.status.idle": "2025-01-24T18:43:23.475580Z",
     "shell.execute_reply": "2025-01-24T18:43:23.473986Z",
     "shell.execute_reply.started": "2025-01-24T18:43:23.468337Z"
    }
   },
   "outputs": [],
   "source": [
    "print(\"Principal Components Regression Results:\")\n",
    "print(f\"Mean Squared Error: {pca_mse}\")\n",
    "print(f\"R^2 Score: {pca_r2}\")\n",
    "print(\"Cumulative Explained Variance Ratio by PCA Components:\")\n",
    "print(pca_optimal.explained_variance_ratio_.cumsum())"
   ]
  },
  {
   "cell_type": "markdown",
   "metadata": {},
   "source": [
    "## Visualizations"
   ]
  },
  {
   "cell_type": "code",
   "execution_count": null,
   "metadata": {
    "execution": {
     "iopub.execute_input": "2025-01-24T18:43:41.614155Z",
     "iopub.status.busy": "2025-01-24T18:43:41.613786Z",
     "iopub.status.idle": "2025-01-24T18:43:41.879022Z",
     "shell.execute_reply": "2025-01-24T18:43:41.877983Z",
     "shell.execute_reply.started": "2025-01-24T18:43:41.614134Z"
    }
   },
   "outputs": [],
   "source": [
    "# PCA Explained Variance Visualization\n",
    "plt.figure(figsize=(10, 6))\n",
    "plt.plot(range(1, len(explained_variance_ratio_cumsum) + 1), explained_variance_ratio_cumsum, marker='o', color='green')\n",
    "plt.title(\"Cumulative Explained Variance by PCA Components\")\n",
    "plt.xlabel(\"Number of Principal Components\")\n",
    "plt.ylabel(\"Cumulative Explained Variance Ratio\")\n",
    "plt.grid()\n",
    "plt.show()"
   ]
  },
  {
   "cell_type": "code",
   "execution_count": null,
   "metadata": {
    "execution": {
     "iopub.execute_input": "2025-01-24T18:43:52.712620Z",
     "iopub.status.busy": "2025-01-24T18:43:52.712281Z",
     "iopub.status.idle": "2025-01-24T18:43:52.919680Z",
     "shell.execute_reply": "2025-01-24T18:43:52.918809Z",
     "shell.execute_reply.started": "2025-01-24T18:43:52.712601Z"
    }
   },
   "outputs": [],
   "source": [
    "# Predicted vs. Actual Values Visualization for PCR\n",
    "plt.figure(figsize=(8, 6))\n",
    "plt.scatter(y_test, y_pred_pca, alpha=0.5, color='orange')\n",
    "plt.title(\"Principal Components Regression: Predicted vs. Actual\")\n",
    "plt.xlabel(\"Actual Rings\")\n",
    "plt.ylabel(\"Predicted Rings\")\n",
    "plt.plot([y_test.min(), y_test.max()], [y_test.min(), y_test.max()], 'r--')\n",
    "plt.show()"
   ]
  },
  {
   "cell_type": "markdown",
   "metadata": {},
   "source": [
    "## Submission"
   ]
  },
  {
   "cell_type": "code",
   "execution_count": null,
   "metadata": {
    "execution": {
     "iopub.execute_input": "2025-01-24T18:49:19.314934Z",
     "iopub.status.busy": "2025-01-24T18:49:19.314558Z",
     "iopub.status.idle": "2025-01-24T18:49:19.320656Z",
     "shell.execute_reply": "2025-01-24T18:49:19.319311Z",
     "shell.execute_reply.started": "2025-01-24T18:49:19.314912Z"
    }
   },
   "outputs": [],
   "source": [
    "submission = pd.DataFrame({'id':test['id'], 'Rings':y_test_pred_pca})"
   ]
  },
  {
   "cell_type": "code",
   "execution_count": null,
   "metadata": {
    "execution": {
     "iopub.execute_input": "2025-01-24T18:49:24.111319Z",
     "iopub.status.busy": "2025-01-24T18:49:24.111027Z",
     "iopub.status.idle": "2025-01-24T18:49:24.140196Z",
     "shell.execute_reply": "2025-01-24T18:49:24.139019Z",
     "shell.execute_reply.started": "2025-01-24T18:49:24.111301Z"
    }
   },
   "outputs": [],
   "source": [
    "submission.describe()"
   ]
  },
  {
   "cell_type": "code",
   "execution_count": null,
   "metadata": {
    "execution": {
     "iopub.execute_input": "2025-01-24T18:49:54.904125Z",
     "iopub.status.busy": "2025-01-24T18:49:54.903764Z",
     "iopub.status.idle": "2025-01-24T18:49:55.019623Z",
     "shell.execute_reply": "2025-01-24T18:49:55.018458Z",
     "shell.execute_reply.started": "2025-01-24T18:49:54.904086Z"
    }
   },
   "outputs": [],
   "source": [
    "submission.to_csv('submission.csv', index=False)"
   ]
  },
  {
   "cell_type": "code",
   "execution_count": null,
   "metadata": {},
   "outputs": [],
   "source": []
  }
 ],
 "metadata": {
  "kaggle": {
   "accelerator": "none",
   "dataSources": [
    {
     "databundleVersionId": 8096274,
     "sourceId": 72489,
     "sourceType": "competition"
    }
   ],
   "dockerImageVersionId": 30839,
   "isGpuEnabled": false,
   "isInternetEnabled": true,
   "language": "python",
   "sourceType": "notebook"
  },
  "kernelspec": {
   "display_name": "Python 3 (ipykernel)",
   "language": "python",
   "name": "python3"
  },
  "language_info": {
   "codemirror_mode": {
    "name": "ipython",
    "version": 3
   },
   "file_extension": ".py",
   "mimetype": "text/x-python",
   "name": "python",
   "nbconvert_exporter": "python",
   "pygments_lexer": "ipython3",
   "version": "3.12.2"
  }
 },
 "nbformat": 4,
 "nbformat_minor": 4
}
