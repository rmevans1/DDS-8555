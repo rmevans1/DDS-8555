{
 "cells": [
  {
   "cell_type": "markdown",
   "id": "616026d4-f1d8-48c2-a3ee-16b5e080d2c5",
   "metadata": {},
   "source": [
    "<h1 style=\"text-align:center\">Build and Evaluate Tree Models</h1>\n",
    "<h2 style=\"text-align:center\">Kaggle Submission- Gradient Boosting</h2>\n",
    "<p style=\"text-align:center\">Robert Evans</p>\n",
    "<p style=\"text-align:center\">School of Technology & Engineering, National University</p>\n",
    "<p style=\"text-align:center\">DDS-8555: Predictive Analysis</p>\n",
    "<p style=\"text-align:center\">Dr. Mohammad Yavarimanesh</p>\n",
    "<p style=\"text-align:center\">February 16, 2025</p>"
   ]
  },
  {
   "cell_type": "markdown",
   "id": "0cc71ec3",
   "metadata": {
    "_cell_guid": "b1076dfc-b9ad-4769-8c92-a6c4dae69d19",
    "_uuid": "8f2839f25d086af736a60e9eeb907d3b93b6e0e5",
    "papermill": {
     "duration": 0.004583,
     "end_time": "2025-02-17T01:39:18.712792",
     "exception": false,
     "start_time": "2025-02-17T01:39:18.708209",
     "status": "completed"
    },
    "tags": []
   },
   "source": [
    "## Import Libraries"
   ]
  },
  {
   "cell_type": "code",
   "execution_count": 1,
   "id": "fb8ea632",
   "metadata": {
    "execution": {
     "iopub.execute_input": "2025-02-17T01:39:18.722656Z",
     "iopub.status.busy": "2025-02-17T01:39:18.722248Z",
     "iopub.status.idle": "2025-02-17T01:39:21.591222Z",
     "shell.execute_reply": "2025-02-17T01:39:21.590046Z"
    },
    "papermill": {
     "duration": 2.875883,
     "end_time": "2025-02-17T01:39:21.593254",
     "exception": false,
     "start_time": "2025-02-17T01:39:18.717371",
     "status": "completed"
    },
    "tags": []
   },
   "outputs": [],
   "source": [
    "import pandas as pd\n",
    "from sklearn.model_selection import train_test_split\n",
    "from sklearn.preprocessing import OneHotEncoder, StandardScaler\n",
    "from sklearn.compose import ColumnTransformer\n",
    "from sklearn.pipeline import Pipeline\n",
    "from sklearn.ensemble import GradientBoostingClassifier\n",
    "from sklearn.metrics import accuracy_score, classification_report"
   ]
  },
  {
   "cell_type": "markdown",
   "id": "69e29385",
   "metadata": {
    "papermill": {
     "duration": 0.003811,
     "end_time": "2025-02-17T01:39:21.601477",
     "exception": false,
     "start_time": "2025-02-17T01:39:21.597666",
     "status": "completed"
    },
    "tags": []
   },
   "source": [
    "## Load Data"
   ]
  },
  {
   "cell_type": "code",
   "execution_count": 2,
   "id": "ed6fc444",
   "metadata": {
    "execution": {
     "iopub.execute_input": "2025-02-17T01:39:21.610941Z",
     "iopub.status.busy": "2025-02-17T01:39:21.610459Z",
     "iopub.status.idle": "2025-02-17T01:39:21.758532Z",
     "shell.execute_reply": "2025-02-17T01:39:21.757441Z"
    },
    "papermill": {
     "duration": 0.155006,
     "end_time": "2025-02-17T01:39:21.760515",
     "exception": false,
     "start_time": "2025-02-17T01:39:21.605509",
     "status": "completed"
    },
    "tags": []
   },
   "outputs": [],
   "source": [
    "train = pd.read_csv('/kaggle/input/playground-series-s4e2/train.csv')\n",
    "test = pd.read_csv('/kaggle/input/playground-series-s4e2/test.csv')"
   ]
  },
  {
   "cell_type": "markdown",
   "id": "5aff3777",
   "metadata": {
    "papermill": {
     "duration": 0.003723,
     "end_time": "2025-02-17T01:39:21.768562",
     "exception": false,
     "start_time": "2025-02-17T01:39:21.764839",
     "status": "completed"
    },
    "tags": []
   },
   "source": [
    "## Data Preparation"
   ]
  },
  {
   "cell_type": "code",
   "execution_count": 3,
   "id": "23118af3",
   "metadata": {
    "execution": {
     "iopub.execute_input": "2025-02-17T01:39:21.777805Z",
     "iopub.status.busy": "2025-02-17T01:39:21.777450Z",
     "iopub.status.idle": "2025-02-17T01:39:21.793576Z",
     "shell.execute_reply": "2025-02-17T01:39:21.792641Z"
    },
    "papermill": {
     "duration": 0.022586,
     "end_time": "2025-02-17T01:39:21.795178",
     "exception": false,
     "start_time": "2025-02-17T01:39:21.772592",
     "status": "completed"
    },
    "tags": []
   },
   "outputs": [],
   "source": [
    "# Define features and target variable\n",
    "X = train.drop(columns=['id', 'NObeyesdad'])  # Exclude target column\n",
    "y = train['NObeyesdad']  # Target column"
   ]
  },
  {
   "cell_type": "code",
   "execution_count": 4,
   "id": "a2e9ed5d",
   "metadata": {
    "execution": {
     "iopub.execute_input": "2025-02-17T01:39:21.804770Z",
     "iopub.status.busy": "2025-02-17T01:39:21.804410Z",
     "iopub.status.idle": "2025-02-17T01:39:21.812161Z",
     "shell.execute_reply": "2025-02-17T01:39:21.811010Z"
    },
    "papermill": {
     "duration": 0.014506,
     "end_time": "2025-02-17T01:39:21.813827",
     "exception": false,
     "start_time": "2025-02-17T01:39:21.799321",
     "status": "completed"
    },
    "tags": []
   },
   "outputs": [],
   "source": [
    "# Identify categorical and numerical features\n",
    "categorical_features = X.select_dtypes(include=['object', 'category']).columns\n",
    "# Create a column transformer for one-hot encoding and scaling\n",
    "preprocessor = ColumnTransformer(transformers=[\n",
    "    ('cat', OneHotEncoder(drop='first', handle_unknown='ignore'), categorical_features),\n",
    "])\n",
    "\n",
    "# Create a pipeline with preprocessing and Support Vector Machine classifier\n",
    "pipeline = Pipeline(steps=[\n",
    "    ('preprocessor', preprocessor),\n",
    "    ('classifier', GradientBoostingClassifier(n_estimators=100, learning_rate=0.1, random_state=42))\n",
    "])"
   ]
  },
  {
   "cell_type": "markdown",
   "id": "47ce625d",
   "metadata": {
    "papermill": {
     "duration": 0.003655,
     "end_time": "2025-02-17T01:39:21.821557",
     "exception": false,
     "start_time": "2025-02-17T01:39:21.817902",
     "status": "completed"
    },
    "tags": []
   },
   "source": [
    "## Build The Model"
   ]
  },
  {
   "cell_type": "code",
   "execution_count": 5,
   "id": "95e43e5d",
   "metadata": {
    "execution": {
     "iopub.execute_input": "2025-02-17T01:39:21.830848Z",
     "iopub.status.busy": "2025-02-17T01:39:21.830512Z",
     "iopub.status.idle": "2025-02-17T01:39:21.841120Z",
     "shell.execute_reply": "2025-02-17T01:39:21.840044Z"
    },
    "papermill": {
     "duration": 0.0174,
     "end_time": "2025-02-17T01:39:21.843035",
     "exception": false,
     "start_time": "2025-02-17T01:39:21.825635",
     "status": "completed"
    },
    "tags": []
   },
   "outputs": [],
   "source": [
    "# Perform 80/20 train/test split\n",
    "X_train, X_test, y_train, y_test = train_test_split(X, y, test_size=0.2, random_state=42)"
   ]
  },
  {
   "cell_type": "code",
   "execution_count": 6,
   "id": "ceb42c97",
   "metadata": {
    "execution": {
     "iopub.execute_input": "2025-02-17T01:39:21.852318Z",
     "iopub.status.busy": "2025-02-17T01:39:21.851894Z",
     "iopub.status.idle": "2025-02-17T01:39:30.293183Z",
     "shell.execute_reply": "2025-02-17T01:39:30.291945Z"
    },
    "papermill": {
     "duration": 8.447894,
     "end_time": "2025-02-17T01:39:30.295055",
     "exception": false,
     "start_time": "2025-02-17T01:39:21.847161",
     "status": "completed"
    },
    "tags": []
   },
   "outputs": [
    {
     "data": {
      "text/html": [
       "<style>#sk-container-id-1 {color: black;background-color: white;}#sk-container-id-1 pre{padding: 0;}#sk-container-id-1 div.sk-toggleable {background-color: white;}#sk-container-id-1 label.sk-toggleable__label {cursor: pointer;display: block;width: 100%;margin-bottom: 0;padding: 0.3em;box-sizing: border-box;text-align: center;}#sk-container-id-1 label.sk-toggleable__label-arrow:before {content: \"▸\";float: left;margin-right: 0.25em;color: #696969;}#sk-container-id-1 label.sk-toggleable__label-arrow:hover:before {color: black;}#sk-container-id-1 div.sk-estimator:hover label.sk-toggleable__label-arrow:before {color: black;}#sk-container-id-1 div.sk-toggleable__content {max-height: 0;max-width: 0;overflow: hidden;text-align: left;background-color: #f0f8ff;}#sk-container-id-1 div.sk-toggleable__content pre {margin: 0.2em;color: black;border-radius: 0.25em;background-color: #f0f8ff;}#sk-container-id-1 input.sk-toggleable__control:checked~div.sk-toggleable__content {max-height: 200px;max-width: 100%;overflow: auto;}#sk-container-id-1 input.sk-toggleable__control:checked~label.sk-toggleable__label-arrow:before {content: \"▾\";}#sk-container-id-1 div.sk-estimator input.sk-toggleable__control:checked~label.sk-toggleable__label {background-color: #d4ebff;}#sk-container-id-1 div.sk-label input.sk-toggleable__control:checked~label.sk-toggleable__label {background-color: #d4ebff;}#sk-container-id-1 input.sk-hidden--visually {border: 0;clip: rect(1px 1px 1px 1px);clip: rect(1px, 1px, 1px, 1px);height: 1px;margin: -1px;overflow: hidden;padding: 0;position: absolute;width: 1px;}#sk-container-id-1 div.sk-estimator {font-family: monospace;background-color: #f0f8ff;border: 1px dotted black;border-radius: 0.25em;box-sizing: border-box;margin-bottom: 0.5em;}#sk-container-id-1 div.sk-estimator:hover {background-color: #d4ebff;}#sk-container-id-1 div.sk-parallel-item::after {content: \"\";width: 100%;border-bottom: 1px solid gray;flex-grow: 1;}#sk-container-id-1 div.sk-label:hover label.sk-toggleable__label {background-color: #d4ebff;}#sk-container-id-1 div.sk-serial::before {content: \"\";position: absolute;border-left: 1px solid gray;box-sizing: border-box;top: 0;bottom: 0;left: 50%;z-index: 0;}#sk-container-id-1 div.sk-serial {display: flex;flex-direction: column;align-items: center;background-color: white;padding-right: 0.2em;padding-left: 0.2em;position: relative;}#sk-container-id-1 div.sk-item {position: relative;z-index: 1;}#sk-container-id-1 div.sk-parallel {display: flex;align-items: stretch;justify-content: center;background-color: white;position: relative;}#sk-container-id-1 div.sk-item::before, #sk-container-id-1 div.sk-parallel-item::before {content: \"\";position: absolute;border-left: 1px solid gray;box-sizing: border-box;top: 0;bottom: 0;left: 50%;z-index: -1;}#sk-container-id-1 div.sk-parallel-item {display: flex;flex-direction: column;z-index: 1;position: relative;background-color: white;}#sk-container-id-1 div.sk-parallel-item:first-child::after {align-self: flex-end;width: 50%;}#sk-container-id-1 div.sk-parallel-item:last-child::after {align-self: flex-start;width: 50%;}#sk-container-id-1 div.sk-parallel-item:only-child::after {width: 0;}#sk-container-id-1 div.sk-dashed-wrapped {border: 1px dashed gray;margin: 0 0.4em 0.5em 0.4em;box-sizing: border-box;padding-bottom: 0.4em;background-color: white;}#sk-container-id-1 div.sk-label label {font-family: monospace;font-weight: bold;display: inline-block;line-height: 1.2em;}#sk-container-id-1 div.sk-label-container {text-align: center;}#sk-container-id-1 div.sk-container {/* jupyter's `normalize.less` sets `[hidden] { display: none; }` but bootstrap.min.css set `[hidden] { display: none !important; }` so we also need the `!important` here to be able to override the default hidden behavior on the sphinx rendered scikit-learn.org. See: https://github.com/scikit-learn/scikit-learn/issues/21755 */display: inline-block !important;position: relative;}#sk-container-id-1 div.sk-text-repr-fallback {display: none;}</style><div id=\"sk-container-id-1\" class=\"sk-top-container\"><div class=\"sk-text-repr-fallback\"><pre>Pipeline(steps=[(&#x27;preprocessor&#x27;,\n",
       "                 ColumnTransformer(transformers=[(&#x27;cat&#x27;,\n",
       "                                                  OneHotEncoder(drop=&#x27;first&#x27;,\n",
       "                                                                handle_unknown=&#x27;ignore&#x27;),\n",
       "                                                  Index([&#x27;Gender&#x27;, &#x27;family_history_with_overweight&#x27;, &#x27;FAVC&#x27;, &#x27;CAEC&#x27;, &#x27;SMOKE&#x27;,\n",
       "       &#x27;SCC&#x27;, &#x27;CALC&#x27;, &#x27;MTRANS&#x27;],\n",
       "      dtype=&#x27;object&#x27;))])),\n",
       "                (&#x27;classifier&#x27;, GradientBoostingClassifier(random_state=42))])</pre><b>In a Jupyter environment, please rerun this cell to show the HTML representation or trust the notebook. <br />On GitHub, the HTML representation is unable to render, please try loading this page with nbviewer.org.</b></div><div class=\"sk-container\" hidden><div class=\"sk-item sk-dashed-wrapped\"><div class=\"sk-label-container\"><div class=\"sk-label sk-toggleable\"><input class=\"sk-toggleable__control sk-hidden--visually\" id=\"sk-estimator-id-1\" type=\"checkbox\" ><label for=\"sk-estimator-id-1\" class=\"sk-toggleable__label sk-toggleable__label-arrow\">Pipeline</label><div class=\"sk-toggleable__content\"><pre>Pipeline(steps=[(&#x27;preprocessor&#x27;,\n",
       "                 ColumnTransformer(transformers=[(&#x27;cat&#x27;,\n",
       "                                                  OneHotEncoder(drop=&#x27;first&#x27;,\n",
       "                                                                handle_unknown=&#x27;ignore&#x27;),\n",
       "                                                  Index([&#x27;Gender&#x27;, &#x27;family_history_with_overweight&#x27;, &#x27;FAVC&#x27;, &#x27;CAEC&#x27;, &#x27;SMOKE&#x27;,\n",
       "       &#x27;SCC&#x27;, &#x27;CALC&#x27;, &#x27;MTRANS&#x27;],\n",
       "      dtype=&#x27;object&#x27;))])),\n",
       "                (&#x27;classifier&#x27;, GradientBoostingClassifier(random_state=42))])</pre></div></div></div><div class=\"sk-serial\"><div class=\"sk-item sk-dashed-wrapped\"><div class=\"sk-label-container\"><div class=\"sk-label sk-toggleable\"><input class=\"sk-toggleable__control sk-hidden--visually\" id=\"sk-estimator-id-2\" type=\"checkbox\" ><label for=\"sk-estimator-id-2\" class=\"sk-toggleable__label sk-toggleable__label-arrow\">preprocessor: ColumnTransformer</label><div class=\"sk-toggleable__content\"><pre>ColumnTransformer(transformers=[(&#x27;cat&#x27;,\n",
       "                                 OneHotEncoder(drop=&#x27;first&#x27;,\n",
       "                                               handle_unknown=&#x27;ignore&#x27;),\n",
       "                                 Index([&#x27;Gender&#x27;, &#x27;family_history_with_overweight&#x27;, &#x27;FAVC&#x27;, &#x27;CAEC&#x27;, &#x27;SMOKE&#x27;,\n",
       "       &#x27;SCC&#x27;, &#x27;CALC&#x27;, &#x27;MTRANS&#x27;],\n",
       "      dtype=&#x27;object&#x27;))])</pre></div></div></div><div class=\"sk-parallel\"><div class=\"sk-parallel-item\"><div class=\"sk-item\"><div class=\"sk-label-container\"><div class=\"sk-label sk-toggleable\"><input class=\"sk-toggleable__control sk-hidden--visually\" id=\"sk-estimator-id-3\" type=\"checkbox\" ><label for=\"sk-estimator-id-3\" class=\"sk-toggleable__label sk-toggleable__label-arrow\">cat</label><div class=\"sk-toggleable__content\"><pre>Index([&#x27;Gender&#x27;, &#x27;family_history_with_overweight&#x27;, &#x27;FAVC&#x27;, &#x27;CAEC&#x27;, &#x27;SMOKE&#x27;,\n",
       "       &#x27;SCC&#x27;, &#x27;CALC&#x27;, &#x27;MTRANS&#x27;],\n",
       "      dtype=&#x27;object&#x27;)</pre></div></div></div><div class=\"sk-serial\"><div class=\"sk-item\"><div class=\"sk-estimator sk-toggleable\"><input class=\"sk-toggleable__control sk-hidden--visually\" id=\"sk-estimator-id-4\" type=\"checkbox\" ><label for=\"sk-estimator-id-4\" class=\"sk-toggleable__label sk-toggleable__label-arrow\">OneHotEncoder</label><div class=\"sk-toggleable__content\"><pre>OneHotEncoder(drop=&#x27;first&#x27;, handle_unknown=&#x27;ignore&#x27;)</pre></div></div></div></div></div></div></div></div><div class=\"sk-item\"><div class=\"sk-estimator sk-toggleable\"><input class=\"sk-toggleable__control sk-hidden--visually\" id=\"sk-estimator-id-5\" type=\"checkbox\" ><label for=\"sk-estimator-id-5\" class=\"sk-toggleable__label sk-toggleable__label-arrow\">GradientBoostingClassifier</label><div class=\"sk-toggleable__content\"><pre>GradientBoostingClassifier(random_state=42)</pre></div></div></div></div></div></div></div>"
      ],
      "text/plain": [
       "Pipeline(steps=[('preprocessor',\n",
       "                 ColumnTransformer(transformers=[('cat',\n",
       "                                                  OneHotEncoder(drop='first',\n",
       "                                                                handle_unknown='ignore'),\n",
       "                                                  Index(['Gender', 'family_history_with_overweight', 'FAVC', 'CAEC', 'SMOKE',\n",
       "       'SCC', 'CALC', 'MTRANS'],\n",
       "      dtype='object'))])),\n",
       "                ('classifier', GradientBoostingClassifier(random_state=42))])"
      ]
     },
     "execution_count": 6,
     "metadata": {},
     "output_type": "execute_result"
    }
   ],
   "source": [
    "# Train the model\n",
    "pipeline.fit(X_train, y_train)"
   ]
  },
  {
   "cell_type": "markdown",
   "id": "6cf1a992",
   "metadata": {
    "papermill": {
     "duration": 0.004054,
     "end_time": "2025-02-17T01:39:30.303733",
     "exception": false,
     "start_time": "2025-02-17T01:39:30.299679",
     "status": "completed"
    },
    "tags": []
   },
   "source": [
    "## Evaluate The Model"
   ]
  },
  {
   "cell_type": "code",
   "execution_count": 7,
   "id": "f23f818e",
   "metadata": {
    "execution": {
     "iopub.execute_input": "2025-02-17T01:39:30.313566Z",
     "iopub.status.busy": "2025-02-17T01:39:30.313221Z",
     "iopub.status.idle": "2025-02-17T01:39:30.386129Z",
     "shell.execute_reply": "2025-02-17T01:39:30.384998Z"
    },
    "papermill": {
     "duration": 0.08,
     "end_time": "2025-02-17T01:39:30.388032",
     "exception": false,
     "start_time": "2025-02-17T01:39:30.308032",
     "status": "completed"
    },
    "tags": []
   },
   "outputs": [],
   "source": [
    "# Predict the testing dataset\n",
    "y_pred = pipeline.predict(X_test)"
   ]
  },
  {
   "cell_type": "code",
   "execution_count": 8,
   "id": "b26c06ec",
   "metadata": {
    "execution": {
     "iopub.execute_input": "2025-02-17T01:39:30.398316Z",
     "iopub.status.busy": "2025-02-17T01:39:30.397930Z",
     "iopub.status.idle": "2025-02-17T01:39:30.408055Z",
     "shell.execute_reply": "2025-02-17T01:39:30.406783Z"
    },
    "papermill": {
     "duration": 0.017439,
     "end_time": "2025-02-17T01:39:30.409919",
     "exception": false,
     "start_time": "2025-02-17T01:39:30.392480",
     "status": "completed"
    },
    "tags": []
   },
   "outputs": [
    {
     "name": "stdout",
     "output_type": "stream",
     "text": [
      "Accuracy: 0.5841\n"
     ]
    }
   ],
   "source": [
    "# Evaluate the model\n",
    "accuracy = accuracy_score(y_test, y_pred)\n",
    "print(f\"Accuracy: {accuracy:.4f}\")"
   ]
  },
  {
   "cell_type": "code",
   "execution_count": 9,
   "id": "fce36174",
   "metadata": {
    "execution": {
     "iopub.execute_input": "2025-02-17T01:39:30.420774Z",
     "iopub.status.busy": "2025-02-17T01:39:30.420392Z",
     "iopub.status.idle": "2025-02-17T01:39:30.540304Z",
     "shell.execute_reply": "2025-02-17T01:39:30.538925Z"
    },
    "papermill": {
     "duration": 0.127286,
     "end_time": "2025-02-17T01:39:30.542342",
     "exception": false,
     "start_time": "2025-02-17T01:39:30.415056",
     "status": "completed"
    },
    "tags": []
   },
   "outputs": [
    {
     "name": "stdout",
     "output_type": "stream",
     "text": [
      "                     precision    recall  f1-score   support\n",
      "\n",
      "Insufficient_Weight       0.63      0.53      0.58       524\n",
      "      Normal_Weight       0.46      0.41      0.43       626\n",
      "     Obesity_Type_I       0.47      0.50      0.48       543\n",
      "    Obesity_Type_II       0.52      0.84      0.64       657\n",
      "   Obesity_Type_III       0.81      1.00      0.89       804\n",
      " Overweight_Level_I       0.62      0.19      0.29       484\n",
      "Overweight_Level_II       0.46      0.35      0.40       514\n",
      "\n",
      "           accuracy                           0.58      4152\n",
      "          macro avg       0.57      0.54      0.53      4152\n",
      "       weighted avg       0.58      0.58      0.56      4152\n",
      "\n"
     ]
    }
   ],
   "source": [
    "print(classification_report(y_test, y_pred))"
   ]
  },
  {
   "cell_type": "markdown",
   "id": "195e6baa",
   "metadata": {
    "papermill": {
     "duration": 0.00439,
     "end_time": "2025-02-17T01:39:30.551330",
     "exception": false,
     "start_time": "2025-02-17T01:39:30.546940",
     "status": "completed"
    },
    "tags": []
   },
   "source": [
    "## Competition Submission"
   ]
  },
  {
   "cell_type": "code",
   "execution_count": 10,
   "id": "34b88629",
   "metadata": {
    "execution": {
     "iopub.execute_input": "2025-02-17T01:39:30.561245Z",
     "iopub.status.busy": "2025-02-17T01:39:30.560850Z",
     "iopub.status.idle": "2025-02-17T01:39:30.566802Z",
     "shell.execute_reply": "2025-02-17T01:39:30.565832Z"
    },
    "papermill": {
     "duration": 0.01291,
     "end_time": "2025-02-17T01:39:30.568598",
     "exception": false,
     "start_time": "2025-02-17T01:39:30.555688",
     "status": "completed"
    },
    "tags": []
   },
   "outputs": [],
   "source": [
    "test_X = test.drop(columns=['id'])"
   ]
  },
  {
   "cell_type": "code",
   "execution_count": 11,
   "id": "0299ba08",
   "metadata": {
    "execution": {
     "iopub.execute_input": "2025-02-17T01:39:30.579014Z",
     "iopub.status.busy": "2025-02-17T01:39:30.578664Z",
     "iopub.status.idle": "2025-02-17T01:39:30.784693Z",
     "shell.execute_reply": "2025-02-17T01:39:30.783448Z"
    },
    "papermill": {
     "duration": 0.213139,
     "end_time": "2025-02-17T01:39:30.786487",
     "exception": false,
     "start_time": "2025-02-17T01:39:30.573348",
     "status": "completed"
    },
    "tags": []
   },
   "outputs": [
    {
     "name": "stderr",
     "output_type": "stream",
     "text": [
      "/usr/local/lib/python3.10/dist-packages/sklearn/preprocessing/_encoders.py:202: UserWarning: Found unknown categories in columns [6] during transform. These unknown categories will be encoded as all zeros\n",
      "  warnings.warn(\n"
     ]
    }
   ],
   "source": [
    "test_y = pipeline.predict(test_X)"
   ]
  },
  {
   "cell_type": "code",
   "execution_count": 12,
   "id": "9d31aa8f",
   "metadata": {
    "execution": {
     "iopub.execute_input": "2025-02-17T01:39:30.796991Z",
     "iopub.status.busy": "2025-02-17T01:39:30.796674Z",
     "iopub.status.idle": "2025-02-17T01:39:30.801889Z",
     "shell.execute_reply": "2025-02-17T01:39:30.800931Z"
    },
    "papermill": {
     "duration": 0.012448,
     "end_time": "2025-02-17T01:39:30.803609",
     "exception": false,
     "start_time": "2025-02-17T01:39:30.791161",
     "status": "completed"
    },
    "tags": []
   },
   "outputs": [],
   "source": [
    "submission = pd.DataFrame({'id':test['id'], 'NObeyesdad':test_y})"
   ]
  },
  {
   "cell_type": "code",
   "execution_count": 13,
   "id": "2a5e61f2",
   "metadata": {
    "execution": {
     "iopub.execute_input": "2025-02-17T01:39:30.814044Z",
     "iopub.status.busy": "2025-02-17T01:39:30.813718Z",
     "iopub.status.idle": "2025-02-17T01:39:30.837421Z",
     "shell.execute_reply": "2025-02-17T01:39:30.836392Z"
    },
    "papermill": {
     "duration": 0.030915,
     "end_time": "2025-02-17T01:39:30.839287",
     "exception": false,
     "start_time": "2025-02-17T01:39:30.808372",
     "status": "completed"
    },
    "tags": []
   },
   "outputs": [],
   "source": [
    "submission.to_csv('submission.csv', index=False)"
   ]
  },
  {
   "cell_type": "code",
   "execution_count": null,
   "id": "e82674b4",
   "metadata": {
    "papermill": {
     "duration": 0.004107,
     "end_time": "2025-02-17T01:39:30.848041",
     "exception": false,
     "start_time": "2025-02-17T01:39:30.843934",
     "status": "completed"
    },
    "tags": []
   },
   "outputs": [],
   "source": []
  }
 ],
 "metadata": {
  "kaggle": {
   "accelerator": "none",
   "dataSources": [
    {
     "databundleVersionId": 10950255,
     "sourceId": 68479,
     "sourceType": "competition"
    }
   ],
   "dockerImageVersionId": 30886,
   "isGpuEnabled": false,
   "isInternetEnabled": true,
   "language": "python",
   "sourceType": "notebook"
  },
  "kernelspec": {
   "display_name": "Python 3 (ipykernel)",
   "language": "python",
   "name": "python3"
  },
  "language_info": {
   "codemirror_mode": {
    "name": "ipython",
    "version": 3
   },
   "file_extension": ".py",
   "mimetype": "text/x-python",
   "name": "python",
   "nbconvert_exporter": "python",
   "pygments_lexer": "ipython3",
   "version": "3.12.9"
  },
  "papermill": {
   "default_parameters": {},
   "duration": 15.711512,
   "end_time": "2025-02-17T01:39:31.572425",
   "environment_variables": {},
   "exception": null,
   "input_path": "__notebook__.ipynb",
   "output_path": "__notebook__.ipynb",
   "parameters": {},
   "start_time": "2025-02-17T01:39:15.860913",
   "version": "2.6.0"
  }
 },
 "nbformat": 4,
 "nbformat_minor": 5
}
